{
  "cells": [
    {
      "cell_type": "markdown",
      "metadata": {
        "id": "view-in-github",
        "colab_type": "text"
      },
      "source": [
        "<a href=\"https://colab.research.google.com/github/AdityaRam1607/Smart-Pricing-for-Homestays-A-Comprehensive-Data-Analysis-and-Prediction-Approach/blob/main/home_stays.ipynb\" target=\"_parent\"><img src=\"https://colab.research.google.com/assets/colab-badge.svg\" alt=\"Open In Colab\"/></a>"
      ]
    },
    {
      "cell_type": "code",
      "execution_count": null,
      "metadata": {
        "id": "b8CwIkQxdBlM"
      },
      "outputs": [],
      "source": [
        "#IMPORTS NEEDED\n",
        "\n",
        "import pandas as pd\n",
        "import numpy as np\n",
        "import matplotlib.pyplot as plt\n"
      ]
    },
    {
      "cell_type": "code",
      "execution_count": null,
      "metadata": {
        "colab": {
          "base_uri": "https://localhost:8080/"
        },
        "id": "nRT7o6zOeas-",
        "outputId": "dd2c60cb-047c-4641-e33b-0f2e6c41046a"
      },
      "outputs": [
        {
          "output_type": "stream",
          "name": "stdout",
          "text": [
            "Mounted at /content/drive\n"
          ]
        }
      ],
      "source": [
        "# MOUNTING GOOGLE COOLAB WITH DRIVE\n",
        "\n",
        "from google.colab import drive\n",
        "drive.mount('/content/drive')"
      ]
    },
    {
      "cell_type": "code",
      "execution_count": null,
      "metadata": {
        "colab": {
          "base_uri": "https://localhost:8080/",
          "height": 499
        },
        "id": "KEFXSzcshIfK",
        "outputId": "c6e3859f-d549-404c-9f6c-b0a4bada8025"
      },
      "outputs": [
        {
          "output_type": "execute_result",
          "data": {
            "text/plain": [
              "         id  log_price property_type        room_type  \\\n",
              "0   6901257   5.010635     Apartment  Entire home/apt   \n",
              "1   6304928   5.129899     Apartment  Entire home/apt   \n",
              "2   7919400   4.976734     Apartment  Entire home/apt   \n",
              "3  13418779   6.620073         House  Entire home/apt   \n",
              "4   3808709   4.744932     Apartment  Entire home/apt   \n",
              "\n",
              "                                           amenities  accommodates  bathrooms  \\\n",
              "0  {\"Wireless Internet\",\"Air conditioning\",Kitche...             3        1.0   \n",
              "1  {\"Wireless Internet\",\"Air conditioning\",Kitche...             7        1.0   \n",
              "2  {TV,\"Cable TV\",\"Wireless Internet\",\"Air condit...             5        1.0   \n",
              "3  {TV,\"Cable TV\",Internet,\"Wireless Internet\",Ki...             4        1.0   \n",
              "4  {TV,Internet,\"Wireless Internet\",\"Air conditio...             2        1.0   \n",
              "\n",
              "   bed_type cancellation_policy  cleaning_fee  ...   latitude   longitude  \\\n",
              "0  Real Bed              strict          True  ...  40.696524  -73.991617   \n",
              "1  Real Bed              strict          True  ...  40.766115  -73.989040   \n",
              "2  Real Bed            moderate          True  ...  40.808110  -73.943756   \n",
              "3  Real Bed            flexible          True  ...  37.772004 -122.431619   \n",
              "4  Real Bed            moderate          True  ...  38.925627  -77.034596   \n",
              "\n",
              "                                       name     neighbourhood  \\\n",
              "0            Beautiful brownstone 1-bedroom  Brooklyn Heights   \n",
              "1  Superb 3BR Apt Located Near Times Square    Hell's Kitchen   \n",
              "2                          The Garden Oasis            Harlem   \n",
              "3        Beautiful Flat in the Heart of SF!      Lower Haight   \n",
              "4                Great studio in midtown DC  Columbia Heights   \n",
              "\n",
              "  number_of_reviews review_scores_rating  \\\n",
              "0                 2                100.0   \n",
              "1                 6                 93.0   \n",
              "2                10                 92.0   \n",
              "3                 0                  NaN   \n",
              "4                 4                 40.0   \n",
              "\n",
              "                                       thumbnail_url zipcode bedrooms  beds  \n",
              "0  https://a0.muscache.com/im/pictures/6d7cbbf7-c...   11201      1.0   1.0  \n",
              "1  https://a0.muscache.com/im/pictures/348a55fe-4...   10019      3.0   3.0  \n",
              "2  https://a0.muscache.com/im/pictures/6fae5362-9...   10027      1.0   3.0  \n",
              "3  https://a0.muscache.com/im/pictures/72208dad-9...   94117      2.0   2.0  \n",
              "4                                                NaN   20009      0.0   1.0  \n",
              "\n",
              "[5 rows x 29 columns]"
            ],
            "text/html": [
              "\n",
              "  <div id=\"df-2bf69fd2-9c09-4541-9f0b-e8fd07a0e25f\" class=\"colab-df-container\">\n",
              "    <div>\n",
              "<style scoped>\n",
              "    .dataframe tbody tr th:only-of-type {\n",
              "        vertical-align: middle;\n",
              "    }\n",
              "\n",
              "    .dataframe tbody tr th {\n",
              "        vertical-align: top;\n",
              "    }\n",
              "\n",
              "    .dataframe thead th {\n",
              "        text-align: right;\n",
              "    }\n",
              "</style>\n",
              "<table border=\"1\" class=\"dataframe\">\n",
              "  <thead>\n",
              "    <tr style=\"text-align: right;\">\n",
              "      <th></th>\n",
              "      <th>id</th>\n",
              "      <th>log_price</th>\n",
              "      <th>property_type</th>\n",
              "      <th>room_type</th>\n",
              "      <th>amenities</th>\n",
              "      <th>accommodates</th>\n",
              "      <th>bathrooms</th>\n",
              "      <th>bed_type</th>\n",
              "      <th>cancellation_policy</th>\n",
              "      <th>cleaning_fee</th>\n",
              "      <th>...</th>\n",
              "      <th>latitude</th>\n",
              "      <th>longitude</th>\n",
              "      <th>name</th>\n",
              "      <th>neighbourhood</th>\n",
              "      <th>number_of_reviews</th>\n",
              "      <th>review_scores_rating</th>\n",
              "      <th>thumbnail_url</th>\n",
              "      <th>zipcode</th>\n",
              "      <th>bedrooms</th>\n",
              "      <th>beds</th>\n",
              "    </tr>\n",
              "  </thead>\n",
              "  <tbody>\n",
              "    <tr>\n",
              "      <th>0</th>\n",
              "      <td>6901257</td>\n",
              "      <td>5.010635</td>\n",
              "      <td>Apartment</td>\n",
              "      <td>Entire home/apt</td>\n",
              "      <td>{\"Wireless Internet\",\"Air conditioning\",Kitche...</td>\n",
              "      <td>3</td>\n",
              "      <td>1.0</td>\n",
              "      <td>Real Bed</td>\n",
              "      <td>strict</td>\n",
              "      <td>True</td>\n",
              "      <td>...</td>\n",
              "      <td>40.696524</td>\n",
              "      <td>-73.991617</td>\n",
              "      <td>Beautiful brownstone 1-bedroom</td>\n",
              "      <td>Brooklyn Heights</td>\n",
              "      <td>2</td>\n",
              "      <td>100.0</td>\n",
              "      <td>https://a0.muscache.com/im/pictures/6d7cbbf7-c...</td>\n",
              "      <td>11201</td>\n",
              "      <td>1.0</td>\n",
              "      <td>1.0</td>\n",
              "    </tr>\n",
              "    <tr>\n",
              "      <th>1</th>\n",
              "      <td>6304928</td>\n",
              "      <td>5.129899</td>\n",
              "      <td>Apartment</td>\n",
              "      <td>Entire home/apt</td>\n",
              "      <td>{\"Wireless Internet\",\"Air conditioning\",Kitche...</td>\n",
              "      <td>7</td>\n",
              "      <td>1.0</td>\n",
              "      <td>Real Bed</td>\n",
              "      <td>strict</td>\n",
              "      <td>True</td>\n",
              "      <td>...</td>\n",
              "      <td>40.766115</td>\n",
              "      <td>-73.989040</td>\n",
              "      <td>Superb 3BR Apt Located Near Times Square</td>\n",
              "      <td>Hell's Kitchen</td>\n",
              "      <td>6</td>\n",
              "      <td>93.0</td>\n",
              "      <td>https://a0.muscache.com/im/pictures/348a55fe-4...</td>\n",
              "      <td>10019</td>\n",
              "      <td>3.0</td>\n",
              "      <td>3.0</td>\n",
              "    </tr>\n",
              "    <tr>\n",
              "      <th>2</th>\n",
              "      <td>7919400</td>\n",
              "      <td>4.976734</td>\n",
              "      <td>Apartment</td>\n",
              "      <td>Entire home/apt</td>\n",
              "      <td>{TV,\"Cable TV\",\"Wireless Internet\",\"Air condit...</td>\n",
              "      <td>5</td>\n",
              "      <td>1.0</td>\n",
              "      <td>Real Bed</td>\n",
              "      <td>moderate</td>\n",
              "      <td>True</td>\n",
              "      <td>...</td>\n",
              "      <td>40.808110</td>\n",
              "      <td>-73.943756</td>\n",
              "      <td>The Garden Oasis</td>\n",
              "      <td>Harlem</td>\n",
              "      <td>10</td>\n",
              "      <td>92.0</td>\n",
              "      <td>https://a0.muscache.com/im/pictures/6fae5362-9...</td>\n",
              "      <td>10027</td>\n",
              "      <td>1.0</td>\n",
              "      <td>3.0</td>\n",
              "    </tr>\n",
              "    <tr>\n",
              "      <th>3</th>\n",
              "      <td>13418779</td>\n",
              "      <td>6.620073</td>\n",
              "      <td>House</td>\n",
              "      <td>Entire home/apt</td>\n",
              "      <td>{TV,\"Cable TV\",Internet,\"Wireless Internet\",Ki...</td>\n",
              "      <td>4</td>\n",
              "      <td>1.0</td>\n",
              "      <td>Real Bed</td>\n",
              "      <td>flexible</td>\n",
              "      <td>True</td>\n",
              "      <td>...</td>\n",
              "      <td>37.772004</td>\n",
              "      <td>-122.431619</td>\n",
              "      <td>Beautiful Flat in the Heart of SF!</td>\n",
              "      <td>Lower Haight</td>\n",
              "      <td>0</td>\n",
              "      <td>NaN</td>\n",
              "      <td>https://a0.muscache.com/im/pictures/72208dad-9...</td>\n",
              "      <td>94117</td>\n",
              "      <td>2.0</td>\n",
              "      <td>2.0</td>\n",
              "    </tr>\n",
              "    <tr>\n",
              "      <th>4</th>\n",
              "      <td>3808709</td>\n",
              "      <td>4.744932</td>\n",
              "      <td>Apartment</td>\n",
              "      <td>Entire home/apt</td>\n",
              "      <td>{TV,Internet,\"Wireless Internet\",\"Air conditio...</td>\n",
              "      <td>2</td>\n",
              "      <td>1.0</td>\n",
              "      <td>Real Bed</td>\n",
              "      <td>moderate</td>\n",
              "      <td>True</td>\n",
              "      <td>...</td>\n",
              "      <td>38.925627</td>\n",
              "      <td>-77.034596</td>\n",
              "      <td>Great studio in midtown DC</td>\n",
              "      <td>Columbia Heights</td>\n",
              "      <td>4</td>\n",
              "      <td>40.0</td>\n",
              "      <td>NaN</td>\n",
              "      <td>20009</td>\n",
              "      <td>0.0</td>\n",
              "      <td>1.0</td>\n",
              "    </tr>\n",
              "  </tbody>\n",
              "</table>\n",
              "<p>5 rows × 29 columns</p>\n",
              "</div>\n",
              "    <div class=\"colab-df-buttons\">\n",
              "\n",
              "  <div class=\"colab-df-container\">\n",
              "    <button class=\"colab-df-convert\" onclick=\"convertToInteractive('df-2bf69fd2-9c09-4541-9f0b-e8fd07a0e25f')\"\n",
              "            title=\"Convert this dataframe to an interactive table.\"\n",
              "            style=\"display:none;\">\n",
              "\n",
              "  <svg xmlns=\"http://www.w3.org/2000/svg\" height=\"24px\" viewBox=\"0 -960 960 960\">\n",
              "    <path d=\"M120-120v-720h720v720H120Zm60-500h600v-160H180v160Zm220 220h160v-160H400v160Zm0 220h160v-160H400v160ZM180-400h160v-160H180v160Zm440 0h160v-160H620v160ZM180-180h160v-160H180v160Zm440 0h160v-160H620v160Z\"/>\n",
              "  </svg>\n",
              "    </button>\n",
              "\n",
              "  <style>\n",
              "    .colab-df-container {\n",
              "      display:flex;\n",
              "      gap: 12px;\n",
              "    }\n",
              "\n",
              "    .colab-df-convert {\n",
              "      background-color: #E8F0FE;\n",
              "      border: none;\n",
              "      border-radius: 50%;\n",
              "      cursor: pointer;\n",
              "      display: none;\n",
              "      fill: #1967D2;\n",
              "      height: 32px;\n",
              "      padding: 0 0 0 0;\n",
              "      width: 32px;\n",
              "    }\n",
              "\n",
              "    .colab-df-convert:hover {\n",
              "      background-color: #E2EBFA;\n",
              "      box-shadow: 0px 1px 2px rgba(60, 64, 67, 0.3), 0px 1px 3px 1px rgba(60, 64, 67, 0.15);\n",
              "      fill: #174EA6;\n",
              "    }\n",
              "\n",
              "    .colab-df-buttons div {\n",
              "      margin-bottom: 4px;\n",
              "    }\n",
              "\n",
              "    [theme=dark] .colab-df-convert {\n",
              "      background-color: #3B4455;\n",
              "      fill: #D2E3FC;\n",
              "    }\n",
              "\n",
              "    [theme=dark] .colab-df-convert:hover {\n",
              "      background-color: #434B5C;\n",
              "      box-shadow: 0px 1px 3px 1px rgba(0, 0, 0, 0.15);\n",
              "      filter: drop-shadow(0px 1px 2px rgba(0, 0, 0, 0.3));\n",
              "      fill: #FFFFFF;\n",
              "    }\n",
              "  </style>\n",
              "\n",
              "    <script>\n",
              "      const buttonEl =\n",
              "        document.querySelector('#df-2bf69fd2-9c09-4541-9f0b-e8fd07a0e25f button.colab-df-convert');\n",
              "      buttonEl.style.display =\n",
              "        google.colab.kernel.accessAllowed ? 'block' : 'none';\n",
              "\n",
              "      async function convertToInteractive(key) {\n",
              "        const element = document.querySelector('#df-2bf69fd2-9c09-4541-9f0b-e8fd07a0e25f');\n",
              "        const dataTable =\n",
              "          await google.colab.kernel.invokeFunction('convertToInteractive',\n",
              "                                                    [key], {});\n",
              "        if (!dataTable) return;\n",
              "\n",
              "        const docLinkHtml = 'Like what you see? Visit the ' +\n",
              "          '<a target=\"_blank\" href=https://colab.research.google.com/notebooks/data_table.ipynb>data table notebook</a>'\n",
              "          + ' to learn more about interactive tables.';\n",
              "        element.innerHTML = '';\n",
              "        dataTable['output_type'] = 'display_data';\n",
              "        await google.colab.output.renderOutput(dataTable, element);\n",
              "        const docLink = document.createElement('div');\n",
              "        docLink.innerHTML = docLinkHtml;\n",
              "        element.appendChild(docLink);\n",
              "      }\n",
              "    </script>\n",
              "  </div>\n",
              "\n",
              "\n",
              "<div id=\"df-cd9ea62a-e1ed-4f36-b473-d93cdffd9a90\">\n",
              "  <button class=\"colab-df-quickchart\" onclick=\"quickchart('df-cd9ea62a-e1ed-4f36-b473-d93cdffd9a90')\"\n",
              "            title=\"Suggest charts\"\n",
              "            style=\"display:none;\">\n",
              "\n",
              "<svg xmlns=\"http://www.w3.org/2000/svg\" height=\"24px\"viewBox=\"0 0 24 24\"\n",
              "     width=\"24px\">\n",
              "    <g>\n",
              "        <path d=\"M19 3H5c-1.1 0-2 .9-2 2v14c0 1.1.9 2 2 2h14c1.1 0 2-.9 2-2V5c0-1.1-.9-2-2-2zM9 17H7v-7h2v7zm4 0h-2V7h2v10zm4 0h-2v-4h2v4z\"/>\n",
              "    </g>\n",
              "</svg>\n",
              "  </button>\n",
              "\n",
              "<style>\n",
              "  .colab-df-quickchart {\n",
              "      --bg-color: #E8F0FE;\n",
              "      --fill-color: #1967D2;\n",
              "      --hover-bg-color: #E2EBFA;\n",
              "      --hover-fill-color: #174EA6;\n",
              "      --disabled-fill-color: #AAA;\n",
              "      --disabled-bg-color: #DDD;\n",
              "  }\n",
              "\n",
              "  [theme=dark] .colab-df-quickchart {\n",
              "      --bg-color: #3B4455;\n",
              "      --fill-color: #D2E3FC;\n",
              "      --hover-bg-color: #434B5C;\n",
              "      --hover-fill-color: #FFFFFF;\n",
              "      --disabled-bg-color: #3B4455;\n",
              "      --disabled-fill-color: #666;\n",
              "  }\n",
              "\n",
              "  .colab-df-quickchart {\n",
              "    background-color: var(--bg-color);\n",
              "    border: none;\n",
              "    border-radius: 50%;\n",
              "    cursor: pointer;\n",
              "    display: none;\n",
              "    fill: var(--fill-color);\n",
              "    height: 32px;\n",
              "    padding: 0;\n",
              "    width: 32px;\n",
              "  }\n",
              "\n",
              "  .colab-df-quickchart:hover {\n",
              "    background-color: var(--hover-bg-color);\n",
              "    box-shadow: 0 1px 2px rgba(60, 64, 67, 0.3), 0 1px 3px 1px rgba(60, 64, 67, 0.15);\n",
              "    fill: var(--button-hover-fill-color);\n",
              "  }\n",
              "\n",
              "  .colab-df-quickchart-complete:disabled,\n",
              "  .colab-df-quickchart-complete:disabled:hover {\n",
              "    background-color: var(--disabled-bg-color);\n",
              "    fill: var(--disabled-fill-color);\n",
              "    box-shadow: none;\n",
              "  }\n",
              "\n",
              "  .colab-df-spinner {\n",
              "    border: 2px solid var(--fill-color);\n",
              "    border-color: transparent;\n",
              "    border-bottom-color: var(--fill-color);\n",
              "    animation:\n",
              "      spin 1s steps(1) infinite;\n",
              "  }\n",
              "\n",
              "  @keyframes spin {\n",
              "    0% {\n",
              "      border-color: transparent;\n",
              "      border-bottom-color: var(--fill-color);\n",
              "      border-left-color: var(--fill-color);\n",
              "    }\n",
              "    20% {\n",
              "      border-color: transparent;\n",
              "      border-left-color: var(--fill-color);\n",
              "      border-top-color: var(--fill-color);\n",
              "    }\n",
              "    30% {\n",
              "      border-color: transparent;\n",
              "      border-left-color: var(--fill-color);\n",
              "      border-top-color: var(--fill-color);\n",
              "      border-right-color: var(--fill-color);\n",
              "    }\n",
              "    40% {\n",
              "      border-color: transparent;\n",
              "      border-right-color: var(--fill-color);\n",
              "      border-top-color: var(--fill-color);\n",
              "    }\n",
              "    60% {\n",
              "      border-color: transparent;\n",
              "      border-right-color: var(--fill-color);\n",
              "    }\n",
              "    80% {\n",
              "      border-color: transparent;\n",
              "      border-right-color: var(--fill-color);\n",
              "      border-bottom-color: var(--fill-color);\n",
              "    }\n",
              "    90% {\n",
              "      border-color: transparent;\n",
              "      border-bottom-color: var(--fill-color);\n",
              "    }\n",
              "  }\n",
              "</style>\n",
              "\n",
              "  <script>\n",
              "    async function quickchart(key) {\n",
              "      const quickchartButtonEl =\n",
              "        document.querySelector('#' + key + ' button');\n",
              "      quickchartButtonEl.disabled = true;  // To prevent multiple clicks.\n",
              "      quickchartButtonEl.classList.add('colab-df-spinner');\n",
              "      try {\n",
              "        const charts = await google.colab.kernel.invokeFunction(\n",
              "            'suggestCharts', [key], {});\n",
              "      } catch (error) {\n",
              "        console.error('Error during call to suggestCharts:', error);\n",
              "      }\n",
              "      quickchartButtonEl.classList.remove('colab-df-spinner');\n",
              "      quickchartButtonEl.classList.add('colab-df-quickchart-complete');\n",
              "    }\n",
              "    (() => {\n",
              "      let quickchartButtonEl =\n",
              "        document.querySelector('#df-cd9ea62a-e1ed-4f36-b473-d93cdffd9a90 button');\n",
              "      quickchartButtonEl.style.display =\n",
              "        google.colab.kernel.accessAllowed ? 'block' : 'none';\n",
              "    })();\n",
              "  </script>\n",
              "</div>\n",
              "\n",
              "    </div>\n",
              "  </div>\n"
            ],
            "application/vnd.google.colaboratory.intrinsic+json": {
              "type": "dataframe",
              "variable_name": "df"
            }
          },
          "metadata": {},
          "execution_count": 3
        }
      ],
      "source": [
        "# GIVING PATH OF MY FILE CSV\n",
        "\n",
        "df = pd.read_csv('Homestays Data.csv')\n",
        "df.head()"
      ]
    },
    {
      "cell_type": "code",
      "execution_count": null,
      "metadata": {
        "id": "99iffZCwmpN2"
      },
      "outputs": [],
      "source": [
        "import datetime\n",
        "import re"
      ]
    },
    {
      "cell_type": "markdown",
      "metadata": {
        "id": "A_VleO3enX4q"
      },
      "source": [
        "# **1. Feature Engineering:**  Host tenure"
      ]
    },
    {
      "cell_type": "code",
      "execution_count": null,
      "metadata": {
        "id": "_EQfqsznmaSu"
      },
      "outputs": [],
      "source": [
        "# Fill missing values in 'host_since' with values from 'first_review' or 'last_review'\n",
        "df['host_since'] = pd.to_datetime(df['host_since'])\n",
        "df['first_review'] = pd.to_datetime(df['first_review'])\n",
        "df['last_review'] = pd.to_datetime(df['last_review'])\n",
        "df['host_since'] = df['host_since'].fillna(df['first_review']).fillna(df['last_review'])\n",
        "\n",
        "# Fill remaining missing values with 0\n",
        "df['host_since'] = df['host_since'].fillna(pd.to_datetime(0))\n",
        "\n",
        "\n",
        "# Convert 'host_since' column to datetime\n",
        "df['host_since'] = pd.to_datetime(df['host_since'])\n",
        "\n",
        "# Calculate host tenure in years\n",
        "current_date = datetime.datetime.now()\n",
        "df['Host_Tenure'] = (current_date - df['host_since']).dt.days / 365"
      ]
    },
    {
      "cell_type": "markdown",
      "metadata": {
        "id": "u9J0b4rdna9X"
      },
      "source": [
        "Amenities Count:"
      ]
    },
    {
      "cell_type": "code",
      "execution_count": null,
      "metadata": {
        "id": "eKGrESyMm5Vc"
      },
      "outputs": [],
      "source": [
        "# Convert 'amenities' column to list of amenities\n",
        "df['amenities'] = df['amenities'].apply(lambda x: x.strip('[]').replace(\"'\", \"\").split(','))\n",
        "\n",
        "# Count the number of amenities\n",
        "df['Amenities_Count'] = df['amenities'].apply(len)\n"
      ]
    },
    {
      "cell_type": "code",
      "execution_count": null,
      "metadata": {
        "colab": {
          "base_uri": "https://localhost:8080/"
        },
        "id": "fvg34n9nja36",
        "outputId": "aabf5400-3e80-4d86-f453-591b439383df"
      },
      "outputs": [
        {
          "output_type": "stream",
          "name": "stdout",
          "text": [
            "0         9\n",
            "1        15\n",
            "2        19\n",
            "3        15\n",
            "4        12\n",
            "         ..\n",
            "74106     1\n",
            "74107    16\n",
            "74108    31\n",
            "74109    15\n",
            "74110    18\n",
            "Name: Amenities_Count, Length: 74111, dtype: int64\n"
          ]
        }
      ],
      "source": [
        "# print Amenities_Count\n",
        "\n",
        "print(df['Amenities_Count'])\n"
      ]
    },
    {
      "cell_type": "markdown",
      "metadata": {
        "id": "n4oGxuBcnb3x"
      },
      "source": [
        "Days Since Last Review:\n",
        "\n"
      ]
    },
    {
      "cell_type": "code",
      "execution_count": null,
      "metadata": {
        "id": "H3AWqCaLm7aP"
      },
      "outputs": [],
      "source": [
        "# Convert 'last_review' column to datetime\n",
        "df['last_review'] = pd.to_datetime(df['last_review'])\n",
        "\n",
        "# Calculate days since last review\n",
        "df['Days_Since_Last_Review'] = (current_date - df['last_review']).dt.days\n"
      ]
    },
    {
      "cell_type": "markdown",
      "metadata": {
        "id": "IfZ4elRLb0s2"
      },
      "source": [
        "# 2. Data Analysis (EDA):"
      ]
    },
    {
      "cell_type": "code",
      "execution_count": null,
      "metadata": {
        "colab": {
          "base_uri": "https://localhost:8080/",
          "height": 1391
        },
        "id": "9WdED9yFb0FT",
        "outputId": "2761e783-c5a3-4592-9902-122f0a9c9b57"
      },
      "outputs": [
        {
          "output_type": "stream",
          "name": "stderr",
          "text": [
            "<ipython-input-11-ed47e0243791>:18: FutureWarning: \n",
            "\n",
            "Passing `palette` without assigning `hue` is deprecated and will be removed in v0.14.0. Assign the `x` variable to `hue` and set `legend=False` for the same effect.\n",
            "\n",
            "  sns.barplot(x=var, y='log_price', data=grouped_data, palette='Set2')\n"
          ]
        },
        {
          "output_type": "display_data",
          "data": {
            "text/plain": [
              "<Figure size 1000x600 with 1 Axes>"
            ],
            "image/png": "[encoded data removed]"
          },
          "metadata": {}
        },
        {
          "output_type": "stream",
          "name": "stderr",
          "text": [
            "<ipython-input-11-ed47e0243791>:18: FutureWarning: \n",
            "\n",
            "Passing `palette` without assigning `hue` is deprecated and will be removed in v0.14.0. Assign the `x` variable to `hue` and set `legend=False` for the same effect.\n",
            "\n",
            "  sns.barplot(x=var, y='log_price', data=grouped_data, palette='Set2')\n"
          ]
        },
        {
          "output_type": "display_data",
          "data": {
            "text/plain": [
              "<Figure size 1000x600 with 1 Axes>"
            ],
            "image/png": "[encoded data removed]"
          },
          "metadata": {}
        }
      ],
      "source": [
        "import pandas as pd\n",
        "import numpy as np\n",
        "import seaborn as sns\n",
        "import matplotlib.pyplot as plt\n",
        "\n",
        "# Analyze the relationship between log_price and categorical variables\n",
        "categorical_vars = ['room_type', 'property_type']\n",
        "subset_df = df\n",
        "for var in categorical_vars:\n",
        "    # Group data by categorical variable and calculate mean log_price\n",
        "    grouped_data = subset_df.groupby(var)['log_price'].mean().reset_index()\n",
        "\n",
        "    # Sort data by log_price\n",
        "    grouped_data = grouped_data.sort_values('log_price')\n",
        "\n",
        "    # Create a bar plot\n",
        "    plt.figure(figsize=(10, 6))\n",
        "    sns.barplot(x=var, y='log_price', data=grouped_data, palette='Set2')\n",
        "    plt.xlabel(var.title(), fontsize=12)\n",
        "    plt.ylabel('Log Price', fontsize=12)\n",
        "    plt.title(f'Average Log Price by {var.title()}', fontsize=14)\n",
        "    plt.xticks(rotation=45, ha='right')\n",
        "    plt.tight_layout()\n",
        "    plt.show()\n"
      ]
    },
    {
      "cell_type": "markdown",
      "metadata": {
        "id": "afcui5Xobjzj"
      },
      "source": [
        "# 3. Geospatial Analysis:"
      ]
    },
    {
      "cell_type": "code",
      "execution_count": null,
      "metadata": {
        "id": "TCiRpvm_aj1B",
        "collapsed": true
      },
      "outputs": [],
      "source": [
        "import folium\n",
        "from folium.plugins import HeatMap\n",
        "import pandas as pd\n",
        "import numpy as np\n",
        "\n",
        "# Take a random 1/4 subset of the data bcz taking all data crashing m gpu\n",
        "subset_size = len(df) // 4\n",
        "subset_indices = np.random.choice(df.index, subset_size, replace=False)\n",
        "subset_df = df.loc[subset_indices]\n",
        "\n",
        "# Filter relevant columns\n",
        "geo_data = subset_df[['latitude', 'longitude', 'log_price', 'neighbourhood']]\n",
        "\n",
        "# Create a base map centered at the mean of latitudes and longitudes\n",
        "base_map = folium.Map(location=[geo_data['latitude'].mean(), geo_data['longitude'].mean()], control_scale=True, zoom_start=10)\n",
        "\n",
        "# Plot each listing as a marker on the map, color-coded by log_price\n",
        "for index, row in geo_data.iterrows():\n",
        "    folium.CircleMarker(location=[row['latitude'], row['longitude']], radius=3,\n",
        "                        color='blue', fill=True, fill_color='blue').add_to(base_map)\n",
        "\n",
        "# Add a heat map layer based on log_price\n",
        "heat_map = HeatMap(data=geo_data[['latitude', 'longitude', 'log_price']], radius=8)\n",
        "base_map.add_child(heat_map)\n",
        "\n",
        "# Display the map\n",
        "base_map\n"
      ]
    },
    {
      "cell_type": "markdown",
      "metadata": {
        "id": "kP1O4I--nqHp"
      },
      "source": [
        "\n",
        "## **Missing data handle**"
      ]
    },
    {
      "cell_type": "code",
      "execution_count": null,
      "metadata": {
        "colab": {
          "base_uri": "https://localhost:8080/"
        },
        "id": "NPwGILBzR2Mr",
        "outputId": "5ce229b2-9ada-42f3-bd81-96abcb25a142"
      },
      "outputs": [
        {
          "output_type": "stream",
          "name": "stdout",
          "text": [
            "         id  log_price property_type        room_type  \\\n",
            "0   6901257   5.010635     Apartment  Entire home/apt   \n",
            "1   6304928   5.129899     Apartment  Entire home/apt   \n",
            "2   7919400   4.976734     Apartment  Entire home/apt   \n",
            "3  13418779   6.620073         House  Entire home/apt   \n",
            "4   3808709   4.744932     Apartment  Entire home/apt   \n",
            "\n",
            "                                           amenities  accommodates  bathrooms  \\\n",
            "0  [{\"Wireless Internet\", \"Air conditioning\", Kit...             3        1.0   \n",
            "1  [{\"Wireless Internet\", \"Air conditioning\", Kit...             7        1.0   \n",
            "2  [{TV, \"Cable TV\", \"Wireless Internet\", \"Air co...             5        1.0   \n",
            "3  [{TV, \"Cable TV\", Internet, \"Wireless Internet...             4        1.0   \n",
            "4  [{TV, Internet, \"Wireless Internet\", \"Air cond...             2        1.0   \n",
            "\n",
            "   bed_type cancellation_policy  cleaning_fee  ...  \\\n",
            "0  Real Bed              strict          True  ...   \n",
            "1  Real Bed              strict          True  ...   \n",
            "2  Real Bed            moderate          True  ...   \n",
            "3  Real Bed            flexible          True  ...   \n",
            "4  Real Bed            moderate          True  ...   \n",
            "\n",
            "                                       name     neighbourhood  \\\n",
            "0            Beautiful brownstone 1-bedroom  Brooklyn Heights   \n",
            "1  Superb 3BR Apt Located Near Times Square    Hell's Kitchen   \n",
            "2                          The Garden Oasis            Harlem   \n",
            "3        Beautiful Flat in the Heart of SF!      Lower Haight   \n",
            "4                Great studio in midtown DC  Columbia Heights   \n",
            "\n",
            "  number_of_reviews review_scores_rating zipcode bedrooms beds  Host_Tenure  \\\n",
            "0                 2                100.0   11201      1.0  1.0    12.126027   \n",
            "1                 6                 93.0   10019      3.0  3.0     6.890411   \n",
            "2                10                 92.0   10027      1.0  3.0     7.539726   \n",
            "3                 0                  NaN   94117      2.0  2.0     9.060274   \n",
            "4                 4                 40.0   20009      0.0  1.0     9.194521   \n",
            "\n",
            "   Amenities_Count Days_Since_Last_Review  \n",
            "0                9                 2851.0  \n",
            "1               15                 2419.0  \n",
            "2               19                 2428.0  \n",
            "3               15                    NaN  \n",
            "4               12                 2663.0  \n",
            "\n",
            "[5 rows x 29 columns]\n"
          ]
        }
      ],
      "source": [
        "# Remove specified columns from the DataFrame not using in this model\n",
        "columns_to_remove = ['host_has_profile_pic', 'host_identity_verified', 'thumbnail_url']\n",
        "df_filtered = df.drop(columns=columns_to_remove)\n",
        "\n",
        "# Display the modified DataFrame\n",
        "print(df_filtered.head())\n"
      ]
    },
    {
      "cell_type": "code",
      "execution_count": null,
      "metadata": {
        "id": "foeFt3YEpwWy"
      },
      "outputs": [],
      "source": [
        "# Fill missing values for numerical columns with 0\n",
        "numerical_columns = ['bathrooms', 'review_scores_rating', 'bedrooms', 'beds', 'Host_Tenure', 'Days_Since_Last_Review']\n",
        "df[numerical_columns] = df[numerical_columns].fillna(0)\n",
        "\n",
        "categorical_columns = ['host_response_rate', 'neighbourhood']\n",
        "df[categorical_columns] = df[categorical_columns].fillna(np.nan)\n",
        "\n",
        "# Convert 'host_response_rate' to numeric and fill missing values with 0\n",
        "df['host_response_rate'] = pd.to_numeric(df['host_response_rate'].str.rstrip('%'), errors='coerce')\n",
        "df['host_response_rate'].fillna(0, inplace=True)\n",
        "\n",
        "\n",
        "import pandas as pd\n",
        "from datetime import datetime\n",
        "\n",
        "# For cleaning_fee, assuming True represents a fee, fill missing values with False\n",
        "df['cleaning_fee'].fillna(False, inplace=True)"
      ]
    },
    {
      "cell_type": "code",
      "execution_count": null,
      "metadata": {
        "id": "_HYnxEgo7AF-"
      },
      "outputs": [],
      "source": [
        "# Fill NaN values in 'cleaning_fee' column with False (0)\n",
        "df['cleaning_fee'].fillna(False, inplace=True)\n",
        "\n",
        "# Convert boolean values to integers (True=1, False=0)\n",
        "df['cleaning_fee'] = df['cleaning_fee'].astype(int)\n",
        "\n",
        "\n",
        "# Convert non-numeric values to NaN\n",
        "df['zipcode'] = pd.to_numeric(df['zipcode'], errors='coerce')\n",
        "\n",
        "# Fill NaN values with 0\n",
        "df['zipcode'] = df['zipcode'].fillna(0)\n",
        "\n",
        "# Convert the 'zipcode' column to int\n",
        "df['zipcode'] = df['zipcode'].astype(int)"
      ]
    },
    {
      "cell_type": "code",
      "execution_count": null,
      "metadata": {
        "colab": {
          "base_uri": "https://localhost:8080/"
        },
        "id": "nfKczNqAqCrx",
        "outputId": "c9401ece-99dd-4486-d29f-cd6834271ddf"
      },
      "outputs": [
        {
          "output_type": "stream",
          "name": "stdout",
          "text": [
            "id                            0\n",
            "log_price                     0\n",
            "property_type                 0\n",
            "room_type                     0\n",
            "amenities                     0\n",
            "accommodates                  0\n",
            "bathrooms                     0\n",
            "bed_type                      0\n",
            "cancellation_policy           0\n",
            "cleaning_fee                  0\n",
            "city                          0\n",
            "description                   0\n",
            "first_review              15864\n",
            "host_has_profile_pic        188\n",
            "host_identity_verified      188\n",
            "host_response_rate            0\n",
            "host_since                    0\n",
            "instant_bookable              0\n",
            "last_review               15827\n",
            "latitude                      0\n",
            "longitude                     0\n",
            "name                          0\n",
            "neighbourhood              6872\n",
            "number_of_reviews             0\n",
            "review_scores_rating          0\n",
            "thumbnail_url              8216\n",
            "zipcode                       0\n",
            "bedrooms                      0\n",
            "beds                          0\n",
            "Host_Tenure                   0\n",
            "Amenities_Count               0\n",
            "Days_Since_Last_Review        0\n",
            "dtype: int64\n",
            "id                                 int64\n",
            "log_price                        float64\n",
            "property_type                     object\n",
            "room_type                         object\n",
            "amenities                         object\n",
            "accommodates                       int64\n",
            "bathrooms                        float64\n",
            "bed_type                          object\n",
            "cancellation_policy               object\n",
            "cleaning_fee                       int64\n",
            "city                              object\n",
            "description                       object\n",
            "first_review              datetime64[ns]\n",
            "host_has_profile_pic              object\n",
            "host_identity_verified            object\n",
            "host_response_rate               float64\n",
            "host_since                datetime64[ns]\n",
            "instant_bookable                  object\n",
            "last_review               datetime64[ns]\n",
            "latitude                         float64\n",
            "longitude                        float64\n",
            "name                              object\n",
            "neighbourhood                     object\n",
            "number_of_reviews                  int64\n",
            "review_scores_rating             float64\n",
            "thumbnail_url                     object\n",
            "zipcode                            int64\n",
            "bedrooms                         float64\n",
            "beds                             float64\n",
            "Host_Tenure                      float64\n",
            "Amenities_Count                    int64\n",
            "Days_Since_Last_Review           float64\n",
            "dtype: object\n"
          ]
        }
      ],
      "source": [
        "# Check for any remaining missing values\n",
        "missing_values_after_cleaning = df.isnull().sum()\n",
        "print(missing_values_after_cleaning)\n",
        "# print column data types\n",
        "print(df.dtypes)"
      ]
    },
    {
      "cell_type": "markdown",
      "metadata": {
        "id": "KypwiBRacvYZ"
      },
      "source": [
        "# 4. Sentiment Analysis on Textual Data:"
      ]
    },
    {
      "cell_type": "code",
      "execution_count": null,
      "metadata": {
        "colab": {
          "base_uri": "https://localhost:8080/"
        },
        "id": "pubIw1oGh48J",
        "outputId": "288e748f-af6e-426f-ca68-7e4e2d26efa7"
      },
      "outputs": [
        {
          "output_type": "stream",
          "name": "stdout",
          "text": [
            "Collecting vaderSentiment\n",
            "  Downloading vaderSentiment-3.3.2-py2.py3-none-any.whl (125 kB)\n",
            "\u001b[2K     \u001b[90m━━━━━━━━━━━━━━━━━━━━━━━━━━━━━━━━━━━━━━━━\u001b[0m \u001b[32m126.0/126.0 kB\u001b[0m \u001b[31m1.3 MB/s\u001b[0m eta \u001b[36m0:00:00\u001b[0m\n",
            "\u001b[?25hRequirement already satisfied: requests in /usr/local/lib/python3.10/dist-packages (from vaderSentiment) (2.31.0)\n",
            "Requirement already satisfied: charset-normalizer<4,>=2 in /usr/local/lib/python3.10/dist-packages (from requests->vaderSentiment) (3.3.2)\n",
            "Requirement already satisfied: idna<4,>=2.5 in /usr/local/lib/python3.10/dist-packages (from requests->vaderSentiment) (3.7)\n",
            "Requirement already satisfied: urllib3<3,>=1.21.1 in /usr/local/lib/python3.10/dist-packages (from requests->vaderSentiment) (2.0.7)\n",
            "Requirement already satisfied: certifi>=2017.4.17 in /usr/local/lib/python3.10/dist-packages (from requests->vaderSentiment) (2024.2.2)\n",
            "Installing collected packages: vaderSentiment\n",
            "Successfully installed vaderSentiment-3.3.2\n"
          ]
        }
      ],
      "source": [
        "!pip install vaderSentiment"
      ]
    },
    {
      "cell_type": "code",
      "execution_count": null,
      "metadata": {
        "id": "GdSu0Q9PfQNm",
        "colab": {
          "base_uri": "https://localhost:8080/"
        },
        "outputId": "aa23e844-9191-40a4-bbae-5d77c0cf344e"
      },
      "outputs": [
        {
          "output_type": "stream",
          "name": "stdout",
          "text": [
            "                                             description sentiment\n",
            "0      Beautiful, sunlit brownstone 1-bedroom in the ...  positive\n",
            "1      Enjoy travelling during your stay in Manhattan...  positive\n",
            "2      The Oasis comes complete with a full backyard ...  positive\n",
            "3      This light-filled home-away-from-home is super...  positive\n",
            "4      Cool, cozy, and comfortable studio located in ...  positive\n",
            "...                                                  ...       ...\n",
            "74106                           one room in bushwick apt  negative\n",
            "74107  Located on the Pacific Coast Highway, this apa...  positive\n",
            "74108  A modern apartment located in East Williamsbur...  positive\n",
            "74109  Fully renovated, designer's studio located in ...  positive\n",
            "74110  You will stay-aboard the Island Trader at one ...  positive\n",
            "\n",
            "[74111 rows x 2 columns]\n"
          ]
        }
      ],
      "source": [
        "import pandas as pd\n",
        "from vaderSentiment.vaderSentiment import SentimentIntensityAnalyzer\n",
        "\n",
        "# Initialize VADER\n",
        "analyzer = SentimentIntensityAnalyzer()\n",
        "\n",
        "# Apply sentiment analysis to each description\n",
        "sentiment_scores = df['description'].apply(lambda x: analyzer.polarity_scores(x))\n",
        "\n",
        "# Extract compound sentiment score\n",
        "compound_scores = [score['compound'] for score in sentiment_scores]\n",
        "\n",
        "# Add sentiment score as a new column in the DataFrame\n",
        "df['sentiment_score'] = compound_scores\n",
        "\n",
        "# Classify as positive or negative based on sentiment score threshold\n",
        "threshold = 0.05\n",
        "df['sentiment'] = df['sentiment_score'].apply(lambda x: 'positive' if x >= threshold else 'negative')\n",
        "\n",
        "# Now, df['sentiment'] contains the predicted sentiment (positive/negative) for each description\n",
        "\n",
        "# printing sentiment with description\n",
        "\n",
        "print(df[['description', 'sentiment']])\n"
      ]
    },
    {
      "cell_type": "markdown",
      "metadata": {
        "id": "lkwKaJ2PduQ9"
      },
      "source": [
        "# 5. Amenities Analysis:"
      ]
    },
    {
      "cell_type": "code",
      "execution_count": null,
      "metadata": {
        "colab": {
          "base_uri": "https://localhost:8080/"
        },
        "id": "wulkor3AoWz9",
        "outputId": "7f0e81fe-bb7b-46e9-abd7-8d6e8b3564a1"
      },
      "outputs": [
        {
          "output_type": "stream",
          "name": "stderr",
          "text": [
            "<ipython-input-19-43f9f102742f>:17: PerformanceWarning: DataFrame is highly fragmented.  This is usually the result of calling `frame.insert` many times, which has poor performance.  Consider joining all columns at once using pd.concat(axis=1) instead. To get a de-fragmented frame, use `newframe = frame.copy()`\n",
            "  df[amenity] = amenities.apply(lambda x: 1 if amenity in x else 0)\n",
            "<ipython-input-19-43f9f102742f>:17: PerformanceWarning: DataFrame is highly fragmented.  This is usually the result of calling `frame.insert` many times, which has poor performance.  Consider joining all columns at once using pd.concat(axis=1) instead. To get a de-fragmented frame, use `newframe = frame.copy()`\n",
            "  df[amenity] = amenities.apply(lambda x: 1 if amenity in x else 0)\n",
            "<ipython-input-19-43f9f102742f>:17: PerformanceWarning: DataFrame is highly fragmented.  This is usually the result of calling `frame.insert` many times, which has poor performance.  Consider joining all columns at once using pd.concat(axis=1) instead. To get a de-fragmented frame, use `newframe = frame.copy()`\n",
            "  df[amenity] = amenities.apply(lambda x: 1 if amenity in x else 0)\n",
            "<ipython-input-19-43f9f102742f>:17: PerformanceWarning: DataFrame is highly fragmented.  This is usually the result of calling `frame.insert` many times, which has poor performance.  Consider joining all columns at once using pd.concat(axis=1) instead. To get a de-fragmented frame, use `newframe = frame.copy()`\n",
            "  df[amenity] = amenities.apply(lambda x: 1 if amenity in x else 0)\n",
            "<ipython-input-19-43f9f102742f>:17: PerformanceWarning: DataFrame is highly fragmented.  This is usually the result of calling `frame.insert` many times, which has poor performance.  Consider joining all columns at once using pd.concat(axis=1) instead. To get a de-fragmented frame, use `newframe = frame.copy()`\n",
            "  df[amenity] = amenities.apply(lambda x: 1 if amenity in x else 0)\n",
            "<ipython-input-19-43f9f102742f>:17: PerformanceWarning: DataFrame is highly fragmented.  This is usually the result of calling `frame.insert` many times, which has poor performance.  Consider joining all columns at once using pd.concat(axis=1) instead. To get a de-fragmented frame, use `newframe = frame.copy()`\n",
            "  df[amenity] = amenities.apply(lambda x: 1 if amenity in x else 0)\n",
            "<ipython-input-19-43f9f102742f>:17: PerformanceWarning: DataFrame is highly fragmented.  This is usually the result of calling `frame.insert` many times, which has poor performance.  Consider joining all columns at once using pd.concat(axis=1) instead. To get a de-fragmented frame, use `newframe = frame.copy()`\n",
            "  df[amenity] = amenities.apply(lambda x: 1 if amenity in x else 0)\n",
            "<ipython-input-19-43f9f102742f>:17: PerformanceWarning: DataFrame is highly fragmented.  This is usually the result of calling `frame.insert` many times, which has poor performance.  Consider joining all columns at once using pd.concat(axis=1) instead. To get a de-fragmented frame, use `newframe = frame.copy()`\n",
            "  df[amenity] = amenities.apply(lambda x: 1 if amenity in x else 0)\n",
            "<ipython-input-19-43f9f102742f>:17: PerformanceWarning: DataFrame is highly fragmented.  This is usually the result of calling `frame.insert` many times, which has poor performance.  Consider joining all columns at once using pd.concat(axis=1) instead. To get a de-fragmented frame, use `newframe = frame.copy()`\n",
            "  df[amenity] = amenities.apply(lambda x: 1 if amenity in x else 0)\n",
            "<ipython-input-19-43f9f102742f>:17: PerformanceWarning: DataFrame is highly fragmented.  This is usually the result of calling `frame.insert` many times, which has poor performance.  Consider joining all columns at once using pd.concat(axis=1) instead. To get a de-fragmented frame, use `newframe = frame.copy()`\n",
            "  df[amenity] = amenities.apply(lambda x: 1 if amenity in x else 0)\n",
            "<ipython-input-19-43f9f102742f>:17: PerformanceWarning: DataFrame is highly fragmented.  This is usually the result of calling `frame.insert` many times, which has poor performance.  Consider joining all columns at once using pd.concat(axis=1) instead. To get a de-fragmented frame, use `newframe = frame.copy()`\n",
            "  df[amenity] = amenities.apply(lambda x: 1 if amenity in x else 0)\n",
            "<ipython-input-19-43f9f102742f>:17: PerformanceWarning: DataFrame is highly fragmented.  This is usually the result of calling `frame.insert` many times, which has poor performance.  Consider joining all columns at once using pd.concat(axis=1) instead. To get a de-fragmented frame, use `newframe = frame.copy()`\n",
            "  df[amenity] = amenities.apply(lambda x: 1 if amenity in x else 0)\n",
            "<ipython-input-19-43f9f102742f>:17: PerformanceWarning: DataFrame is highly fragmented.  This is usually the result of calling `frame.insert` many times, which has poor performance.  Consider joining all columns at once using pd.concat(axis=1) instead. To get a de-fragmented frame, use `newframe = frame.copy()`\n",
            "  df[amenity] = amenities.apply(lambda x: 1 if amenity in x else 0)\n",
            "<ipython-input-19-43f9f102742f>:17: PerformanceWarning: DataFrame is highly fragmented.  This is usually the result of calling `frame.insert` many times, which has poor performance.  Consider joining all columns at once using pd.concat(axis=1) instead. To get a de-fragmented frame, use `newframe = frame.copy()`\n",
            "  df[amenity] = amenities.apply(lambda x: 1 if amenity in x else 0)\n",
            "<ipython-input-19-43f9f102742f>:17: PerformanceWarning: DataFrame is highly fragmented.  This is usually the result of calling `frame.insert` many times, which has poor performance.  Consider joining all columns at once using pd.concat(axis=1) instead. To get a de-fragmented frame, use `newframe = frame.copy()`\n",
            "  df[amenity] = amenities.apply(lambda x: 1 if amenity in x else 0)\n",
            "<ipython-input-19-43f9f102742f>:17: PerformanceWarning: DataFrame is highly fragmented.  This is usually the result of calling `frame.insert` many times, which has poor performance.  Consider joining all columns at once using pd.concat(axis=1) instead. To get a de-fragmented frame, use `newframe = frame.copy()`\n",
            "  df[amenity] = amenities.apply(lambda x: 1 if amenity in x else 0)\n",
            "<ipython-input-19-43f9f102742f>:17: PerformanceWarning: DataFrame is highly fragmented.  This is usually the result of calling `frame.insert` many times, which has poor performance.  Consider joining all columns at once using pd.concat(axis=1) instead. To get a de-fragmented frame, use `newframe = frame.copy()`\n",
            "  df[amenity] = amenities.apply(lambda x: 1 if amenity in x else 0)\n",
            "<ipython-input-19-43f9f102742f>:17: PerformanceWarning: DataFrame is highly fragmented.  This is usually the result of calling `frame.insert` many times, which has poor performance.  Consider joining all columns at once using pd.concat(axis=1) instead. To get a de-fragmented frame, use `newframe = frame.copy()`\n",
            "  df[amenity] = amenities.apply(lambda x: 1 if amenity in x else 0)\n",
            "<ipython-input-19-43f9f102742f>:17: PerformanceWarning: DataFrame is highly fragmented.  This is usually the result of calling `frame.insert` many times, which has poor performance.  Consider joining all columns at once using pd.concat(axis=1) instead. To get a de-fragmented frame, use `newframe = frame.copy()`\n",
            "  df[amenity] = amenities.apply(lambda x: 1 if amenity in x else 0)\n",
            "<ipython-input-19-43f9f102742f>:17: PerformanceWarning: DataFrame is highly fragmented.  This is usually the result of calling `frame.insert` many times, which has poor performance.  Consider joining all columns at once using pd.concat(axis=1) instead. To get a de-fragmented frame, use `newframe = frame.copy()`\n",
            "  df[amenity] = amenities.apply(lambda x: 1 if amenity in x else 0)\n",
            "<ipython-input-19-43f9f102742f>:17: PerformanceWarning: DataFrame is highly fragmented.  This is usually the result of calling `frame.insert` many times, which has poor performance.  Consider joining all columns at once using pd.concat(axis=1) instead. To get a de-fragmented frame, use `newframe = frame.copy()`\n",
            "  df[amenity] = amenities.apply(lambda x: 1 if amenity in x else 0)\n",
            "<ipython-input-19-43f9f102742f>:17: PerformanceWarning: DataFrame is highly fragmented.  This is usually the result of calling `frame.insert` many times, which has poor performance.  Consider joining all columns at once using pd.concat(axis=1) instead. To get a de-fragmented frame, use `newframe = frame.copy()`\n",
            "  df[amenity] = amenities.apply(lambda x: 1 if amenity in x else 0)\n",
            "<ipython-input-19-43f9f102742f>:17: PerformanceWarning: DataFrame is highly fragmented.  This is usually the result of calling `frame.insert` many times, which has poor performance.  Consider joining all columns at once using pd.concat(axis=1) instead. To get a de-fragmented frame, use `newframe = frame.copy()`\n",
            "  df[amenity] = amenities.apply(lambda x: 1 if amenity in x else 0)\n",
            "<ipython-input-19-43f9f102742f>:17: PerformanceWarning: DataFrame is highly fragmented.  This is usually the result of calling `frame.insert` many times, which has poor performance.  Consider joining all columns at once using pd.concat(axis=1) instead. To get a de-fragmented frame, use `newframe = frame.copy()`\n",
            "  df[amenity] = amenities.apply(lambda x: 1 if amenity in x else 0)\n",
            "<ipython-input-19-43f9f102742f>:17: PerformanceWarning: DataFrame is highly fragmented.  This is usually the result of calling `frame.insert` many times, which has poor performance.  Consider joining all columns at once using pd.concat(axis=1) instead. To get a de-fragmented frame, use `newframe = frame.copy()`\n",
            "  df[amenity] = amenities.apply(lambda x: 1 if amenity in x else 0)\n",
            "<ipython-input-19-43f9f102742f>:17: PerformanceWarning: DataFrame is highly fragmented.  This is usually the result of calling `frame.insert` many times, which has poor performance.  Consider joining all columns at once using pd.concat(axis=1) instead. To get a de-fragmented frame, use `newframe = frame.copy()`\n",
            "  df[amenity] = amenities.apply(lambda x: 1 if amenity in x else 0)\n",
            "<ipython-input-19-43f9f102742f>:17: PerformanceWarning: DataFrame is highly fragmented.  This is usually the result of calling `frame.insert` many times, which has poor performance.  Consider joining all columns at once using pd.concat(axis=1) instead. To get a de-fragmented frame, use `newframe = frame.copy()`\n",
            "  df[amenity] = amenities.apply(lambda x: 1 if amenity in x else 0)\n",
            "<ipython-input-19-43f9f102742f>:17: PerformanceWarning: DataFrame is highly fragmented.  This is usually the result of calling `frame.insert` many times, which has poor performance.  Consider joining all columns at once using pd.concat(axis=1) instead. To get a de-fragmented frame, use `newframe = frame.copy()`\n",
            "  df[amenity] = amenities.apply(lambda x: 1 if amenity in x else 0)\n",
            "<ipython-input-19-43f9f102742f>:17: PerformanceWarning: DataFrame is highly fragmented.  This is usually the result of calling `frame.insert` many times, which has poor performance.  Consider joining all columns at once using pd.concat(axis=1) instead. To get a de-fragmented frame, use `newframe = frame.copy()`\n",
            "  df[amenity] = amenities.apply(lambda x: 1 if amenity in x else 0)\n",
            "<ipython-input-19-43f9f102742f>:17: PerformanceWarning: DataFrame is highly fragmented.  This is usually the result of calling `frame.insert` many times, which has poor performance.  Consider joining all columns at once using pd.concat(axis=1) instead. To get a de-fragmented frame, use `newframe = frame.copy()`\n",
            "  df[amenity] = amenities.apply(lambda x: 1 if amenity in x else 0)\n",
            "<ipython-input-19-43f9f102742f>:17: PerformanceWarning: DataFrame is highly fragmented.  This is usually the result of calling `frame.insert` many times, which has poor performance.  Consider joining all columns at once using pd.concat(axis=1) instead. To get a de-fragmented frame, use `newframe = frame.copy()`\n",
            "  df[amenity] = amenities.apply(lambda x: 1 if amenity in x else 0)\n",
            "<ipython-input-19-43f9f102742f>:17: PerformanceWarning: DataFrame is highly fragmented.  This is usually the result of calling `frame.insert` many times, which has poor performance.  Consider joining all columns at once using pd.concat(axis=1) instead. To get a de-fragmented frame, use `newframe = frame.copy()`\n",
            "  df[amenity] = amenities.apply(lambda x: 1 if amenity in x else 0)\n",
            "<ipython-input-19-43f9f102742f>:17: PerformanceWarning: DataFrame is highly fragmented.  This is usually the result of calling `frame.insert` many times, which has poor performance.  Consider joining all columns at once using pd.concat(axis=1) instead. To get a de-fragmented frame, use `newframe = frame.copy()`\n",
            "  df[amenity] = amenities.apply(lambda x: 1 if amenity in x else 0)\n",
            "<ipython-input-19-43f9f102742f>:17: PerformanceWarning: DataFrame is highly fragmented.  This is usually the result of calling `frame.insert` many times, which has poor performance.  Consider joining all columns at once using pd.concat(axis=1) instead. To get a de-fragmented frame, use `newframe = frame.copy()`\n",
            "  df[amenity] = amenities.apply(lambda x: 1 if amenity in x else 0)\n",
            "<ipython-input-19-43f9f102742f>:17: PerformanceWarning: DataFrame is highly fragmented.  This is usually the result of calling `frame.insert` many times, which has poor performance.  Consider joining all columns at once using pd.concat(axis=1) instead. To get a de-fragmented frame, use `newframe = frame.copy()`\n",
            "  df[amenity] = amenities.apply(lambda x: 1 if amenity in x else 0)\n",
            "<ipython-input-19-43f9f102742f>:17: PerformanceWarning: DataFrame is highly fragmented.  This is usually the result of calling `frame.insert` many times, which has poor performance.  Consider joining all columns at once using pd.concat(axis=1) instead. To get a de-fragmented frame, use `newframe = frame.copy()`\n",
            "  df[amenity] = amenities.apply(lambda x: 1 if amenity in x else 0)\n",
            "<ipython-input-19-43f9f102742f>:17: PerformanceWarning: DataFrame is highly fragmented.  This is usually the result of calling `frame.insert` many times, which has poor performance.  Consider joining all columns at once using pd.concat(axis=1) instead. To get a de-fragmented frame, use `newframe = frame.copy()`\n",
            "  df[amenity] = amenities.apply(lambda x: 1 if amenity in x else 0)\n",
            "<ipython-input-19-43f9f102742f>:17: PerformanceWarning: DataFrame is highly fragmented.  This is usually the result of calling `frame.insert` many times, which has poor performance.  Consider joining all columns at once using pd.concat(axis=1) instead. To get a de-fragmented frame, use `newframe = frame.copy()`\n",
            "  df[amenity] = amenities.apply(lambda x: 1 if amenity in x else 0)\n",
            "<ipython-input-19-43f9f102742f>:17: PerformanceWarning: DataFrame is highly fragmented.  This is usually the result of calling `frame.insert` many times, which has poor performance.  Consider joining all columns at once using pd.concat(axis=1) instead. To get a de-fragmented frame, use `newframe = frame.copy()`\n",
            "  df[amenity] = amenities.apply(lambda x: 1 if amenity in x else 0)\n",
            "<ipython-input-19-43f9f102742f>:17: PerformanceWarning: DataFrame is highly fragmented.  This is usually the result of calling `frame.insert` many times, which has poor performance.  Consider joining all columns at once using pd.concat(axis=1) instead. To get a de-fragmented frame, use `newframe = frame.copy()`\n",
            "  df[amenity] = amenities.apply(lambda x: 1 if amenity in x else 0)\n",
            "<ipython-input-19-43f9f102742f>:17: PerformanceWarning: DataFrame is highly fragmented.  This is usually the result of calling `frame.insert` many times, which has poor performance.  Consider joining all columns at once using pd.concat(axis=1) instead. To get a de-fragmented frame, use `newframe = frame.copy()`\n",
            "  df[amenity] = amenities.apply(lambda x: 1 if amenity in x else 0)\n",
            "<ipython-input-19-43f9f102742f>:17: PerformanceWarning: DataFrame is highly fragmented.  This is usually the result of calling `frame.insert` many times, which has poor performance.  Consider joining all columns at once using pd.concat(axis=1) instead. To get a de-fragmented frame, use `newframe = frame.copy()`\n",
            "  df[amenity] = amenities.apply(lambda x: 1 if amenity in x else 0)\n",
            "<ipython-input-19-43f9f102742f>:17: PerformanceWarning: DataFrame is highly fragmented.  This is usually the result of calling `frame.insert` many times, which has poor performance.  Consider joining all columns at once using pd.concat(axis=1) instead. To get a de-fragmented frame, use `newframe = frame.copy()`\n",
            "  df[amenity] = amenities.apply(lambda x: 1 if amenity in x else 0)\n",
            "<ipython-input-19-43f9f102742f>:17: PerformanceWarning: DataFrame is highly fragmented.  This is usually the result of calling `frame.insert` many times, which has poor performance.  Consider joining all columns at once using pd.concat(axis=1) instead. To get a de-fragmented frame, use `newframe = frame.copy()`\n",
            "  df[amenity] = amenities.apply(lambda x: 1 if amenity in x else 0)\n",
            "<ipython-input-19-43f9f102742f>:17: PerformanceWarning: DataFrame is highly fragmented.  This is usually the result of calling `frame.insert` many times, which has poor performance.  Consider joining all columns at once using pd.concat(axis=1) instead. To get a de-fragmented frame, use `newframe = frame.copy()`\n",
            "  df[amenity] = amenities.apply(lambda x: 1 if amenity in x else 0)\n",
            "<ipython-input-19-43f9f102742f>:17: PerformanceWarning: DataFrame is highly fragmented.  This is usually the result of calling `frame.insert` many times, which has poor performance.  Consider joining all columns at once using pd.concat(axis=1) instead. To get a de-fragmented frame, use `newframe = frame.copy()`\n",
            "  df[amenity] = amenities.apply(lambda x: 1 if amenity in x else 0)\n",
            "<ipython-input-19-43f9f102742f>:17: PerformanceWarning: DataFrame is highly fragmented.  This is usually the result of calling `frame.insert` many times, which has poor performance.  Consider joining all columns at once using pd.concat(axis=1) instead. To get a de-fragmented frame, use `newframe = frame.copy()`\n",
            "  df[amenity] = amenities.apply(lambda x: 1 if amenity in x else 0)\n",
            "<ipython-input-19-43f9f102742f>:17: PerformanceWarning: DataFrame is highly fragmented.  This is usually the result of calling `frame.insert` many times, which has poor performance.  Consider joining all columns at once using pd.concat(axis=1) instead. To get a de-fragmented frame, use `newframe = frame.copy()`\n",
            "  df[amenity] = amenities.apply(lambda x: 1 if amenity in x else 0)\n",
            "<ipython-input-19-43f9f102742f>:17: PerformanceWarning: DataFrame is highly fragmented.  This is usually the result of calling `frame.insert` many times, which has poor performance.  Consider joining all columns at once using pd.concat(axis=1) instead. To get a de-fragmented frame, use `newframe = frame.copy()`\n",
            "  df[amenity] = amenities.apply(lambda x: 1 if amenity in x else 0)\n",
            "<ipython-input-19-43f9f102742f>:17: PerformanceWarning: DataFrame is highly fragmented.  This is usually the result of calling `frame.insert` many times, which has poor performance.  Consider joining all columns at once using pd.concat(axis=1) instead. To get a de-fragmented frame, use `newframe = frame.copy()`\n",
            "  df[amenity] = amenities.apply(lambda x: 1 if amenity in x else 0)\n",
            "<ipython-input-19-43f9f102742f>:17: PerformanceWarning: DataFrame is highly fragmented.  This is usually the result of calling `frame.insert` many times, which has poor performance.  Consider joining all columns at once using pd.concat(axis=1) instead. To get a de-fragmented frame, use `newframe = frame.copy()`\n",
            "  df[amenity] = amenities.apply(lambda x: 1 if amenity in x else 0)\n",
            "<ipython-input-19-43f9f102742f>:17: PerformanceWarning: DataFrame is highly fragmented.  This is usually the result of calling `frame.insert` many times, which has poor performance.  Consider joining all columns at once using pd.concat(axis=1) instead. To get a de-fragmented frame, use `newframe = frame.copy()`\n",
            "  df[amenity] = amenities.apply(lambda x: 1 if amenity in x else 0)\n",
            "<ipython-input-19-43f9f102742f>:17: PerformanceWarning: DataFrame is highly fragmented.  This is usually the result of calling `frame.insert` many times, which has poor performance.  Consider joining all columns at once using pd.concat(axis=1) instead. To get a de-fragmented frame, use `newframe = frame.copy()`\n",
            "  df[amenity] = amenities.apply(lambda x: 1 if amenity in x else 0)\n",
            "<ipython-input-19-43f9f102742f>:17: PerformanceWarning: DataFrame is highly fragmented.  This is usually the result of calling `frame.insert` many times, which has poor performance.  Consider joining all columns at once using pd.concat(axis=1) instead. To get a de-fragmented frame, use `newframe = frame.copy()`\n",
            "  df[amenity] = amenities.apply(lambda x: 1 if amenity in x else 0)\n",
            "<ipython-input-19-43f9f102742f>:17: PerformanceWarning: DataFrame is highly fragmented.  This is usually the result of calling `frame.insert` many times, which has poor performance.  Consider joining all columns at once using pd.concat(axis=1) instead. To get a de-fragmented frame, use `newframe = frame.copy()`\n",
            "  df[amenity] = amenities.apply(lambda x: 1 if amenity in x else 0)\n",
            "<ipython-input-19-43f9f102742f>:17: PerformanceWarning: DataFrame is highly fragmented.  This is usually the result of calling `frame.insert` many times, which has poor performance.  Consider joining all columns at once using pd.concat(axis=1) instead. To get a de-fragmented frame, use `newframe = frame.copy()`\n",
            "  df[amenity] = amenities.apply(lambda x: 1 if amenity in x else 0)\n",
            "<ipython-input-19-43f9f102742f>:17: PerformanceWarning: DataFrame is highly fragmented.  This is usually the result of calling `frame.insert` many times, which has poor performance.  Consider joining all columns at once using pd.concat(axis=1) instead. To get a de-fragmented frame, use `newframe = frame.copy()`\n",
            "  df[amenity] = amenities.apply(lambda x: 1 if amenity in x else 0)\n",
            "<ipython-input-19-43f9f102742f>:17: PerformanceWarning: DataFrame is highly fragmented.  This is usually the result of calling `frame.insert` many times, which has poor performance.  Consider joining all columns at once using pd.concat(axis=1) instead. To get a de-fragmented frame, use `newframe = frame.copy()`\n",
            "  df[amenity] = amenities.apply(lambda x: 1 if amenity in x else 0)\n",
            "<ipython-input-19-43f9f102742f>:17: PerformanceWarning: DataFrame is highly fragmented.  This is usually the result of calling `frame.insert` many times, which has poor performance.  Consider joining all columns at once using pd.concat(axis=1) instead. To get a de-fragmented frame, use `newframe = frame.copy()`\n",
            "  df[amenity] = amenities.apply(lambda x: 1 if amenity in x else 0)\n",
            "<ipython-input-19-43f9f102742f>:17: PerformanceWarning: DataFrame is highly fragmented.  This is usually the result of calling `frame.insert` many times, which has poor performance.  Consider joining all columns at once using pd.concat(axis=1) instead. To get a de-fragmented frame, use `newframe = frame.copy()`\n",
            "  df[amenity] = amenities.apply(lambda x: 1 if amenity in x else 0)\n",
            "<ipython-input-19-43f9f102742f>:17: PerformanceWarning: DataFrame is highly fragmented.  This is usually the result of calling `frame.insert` many times, which has poor performance.  Consider joining all columns at once using pd.concat(axis=1) instead. To get a de-fragmented frame, use `newframe = frame.copy()`\n",
            "  df[amenity] = amenities.apply(lambda x: 1 if amenity in x else 0)\n",
            "<ipython-input-19-43f9f102742f>:17: PerformanceWarning: DataFrame is highly fragmented.  This is usually the result of calling `frame.insert` many times, which has poor performance.  Consider joining all columns at once using pd.concat(axis=1) instead. To get a de-fragmented frame, use `newframe = frame.copy()`\n",
            "  df[amenity] = amenities.apply(lambda x: 1 if amenity in x else 0)\n",
            "<ipython-input-19-43f9f102742f>:17: PerformanceWarning: DataFrame is highly fragmented.  This is usually the result of calling `frame.insert` many times, which has poor performance.  Consider joining all columns at once using pd.concat(axis=1) instead. To get a de-fragmented frame, use `newframe = frame.copy()`\n",
            "  df[amenity] = amenities.apply(lambda x: 1 if amenity in x else 0)\n",
            "<ipython-input-19-43f9f102742f>:17: PerformanceWarning: DataFrame is highly fragmented.  This is usually the result of calling `frame.insert` many times, which has poor performance.  Consider joining all columns at once using pd.concat(axis=1) instead. To get a de-fragmented frame, use `newframe = frame.copy()`\n",
            "  df[amenity] = amenities.apply(lambda x: 1 if amenity in x else 0)\n",
            "<ipython-input-19-43f9f102742f>:17: PerformanceWarning: DataFrame is highly fragmented.  This is usually the result of calling `frame.insert` many times, which has poor performance.  Consider joining all columns at once using pd.concat(axis=1) instead. To get a de-fragmented frame, use `newframe = frame.copy()`\n",
            "  df[amenity] = amenities.apply(lambda x: 1 if amenity in x else 0)\n",
            "<ipython-input-19-43f9f102742f>:17: PerformanceWarning: DataFrame is highly fragmented.  This is usually the result of calling `frame.insert` many times, which has poor performance.  Consider joining all columns at once using pd.concat(axis=1) instead. To get a de-fragmented frame, use `newframe = frame.copy()`\n",
            "  df[amenity] = amenities.apply(lambda x: 1 if amenity in x else 0)\n",
            "<ipython-input-19-43f9f102742f>:17: PerformanceWarning: DataFrame is highly fragmented.  This is usually the result of calling `frame.insert` many times, which has poor performance.  Consider joining all columns at once using pd.concat(axis=1) instead. To get a de-fragmented frame, use `newframe = frame.copy()`\n",
            "  df[amenity] = amenities.apply(lambda x: 1 if amenity in x else 0)\n",
            "<ipython-input-19-43f9f102742f>:17: PerformanceWarning: DataFrame is highly fragmented.  This is usually the result of calling `frame.insert` many times, which has poor performance.  Consider joining all columns at once using pd.concat(axis=1) instead. To get a de-fragmented frame, use `newframe = frame.copy()`\n",
            "  df[amenity] = amenities.apply(lambda x: 1 if amenity in x else 0)\n",
            "<ipython-input-19-43f9f102742f>:17: PerformanceWarning: DataFrame is highly fragmented.  This is usually the result of calling `frame.insert` many times, which has poor performance.  Consider joining all columns at once using pd.concat(axis=1) instead. To get a de-fragmented frame, use `newframe = frame.copy()`\n",
            "  df[amenity] = amenities.apply(lambda x: 1 if amenity in x else 0)\n",
            "<ipython-input-19-43f9f102742f>:17: PerformanceWarning: DataFrame is highly fragmented.  This is usually the result of calling `frame.insert` many times, which has poor performance.  Consider joining all columns at once using pd.concat(axis=1) instead. To get a de-fragmented frame, use `newframe = frame.copy()`\n",
            "  df[amenity] = amenities.apply(lambda x: 1 if amenity in x else 0)\n",
            "<ipython-input-19-43f9f102742f>:17: PerformanceWarning: DataFrame is highly fragmented.  This is usually the result of calling `frame.insert` many times, which has poor performance.  Consider joining all columns at once using pd.concat(axis=1) instead. To get a de-fragmented frame, use `newframe = frame.copy()`\n",
            "  df[amenity] = amenities.apply(lambda x: 1 if amenity in x else 0)\n",
            "<ipython-input-19-43f9f102742f>:17: PerformanceWarning: DataFrame is highly fragmented.  This is usually the result of calling `frame.insert` many times, which has poor performance.  Consider joining all columns at once using pd.concat(axis=1) instead. To get a de-fragmented frame, use `newframe = frame.copy()`\n",
            "  df[amenity] = amenities.apply(lambda x: 1 if amenity in x else 0)\n",
            "<ipython-input-19-43f9f102742f>:17: PerformanceWarning: DataFrame is highly fragmented.  This is usually the result of calling `frame.insert` many times, which has poor performance.  Consider joining all columns at once using pd.concat(axis=1) instead. To get a de-fragmented frame, use `newframe = frame.copy()`\n",
            "  df[amenity] = amenities.apply(lambda x: 1 if amenity in x else 0)\n",
            "<ipython-input-19-43f9f102742f>:17: PerformanceWarning: DataFrame is highly fragmented.  This is usually the result of calling `frame.insert` many times, which has poor performance.  Consider joining all columns at once using pd.concat(axis=1) instead. To get a de-fragmented frame, use `newframe = frame.copy()`\n",
            "  df[amenity] = amenities.apply(lambda x: 1 if amenity in x else 0)\n",
            "<ipython-input-19-43f9f102742f>:17: PerformanceWarning: DataFrame is highly fragmented.  This is usually the result of calling `frame.insert` many times, which has poor performance.  Consider joining all columns at once using pd.concat(axis=1) instead. To get a de-fragmented frame, use `newframe = frame.copy()`\n",
            "  df[amenity] = amenities.apply(lambda x: 1 if amenity in x else 0)\n",
            "<ipython-input-19-43f9f102742f>:17: PerformanceWarning: DataFrame is highly fragmented.  This is usually the result of calling `frame.insert` many times, which has poor performance.  Consider joining all columns at once using pd.concat(axis=1) instead. To get a de-fragmented frame, use `newframe = frame.copy()`\n",
            "  df[amenity] = amenities.apply(lambda x: 1 if amenity in x else 0)\n",
            "<ipython-input-19-43f9f102742f>:17: PerformanceWarning: DataFrame is highly fragmented.  This is usually the result of calling `frame.insert` many times, which has poor performance.  Consider joining all columns at once using pd.concat(axis=1) instead. To get a de-fragmented frame, use `newframe = frame.copy()`\n",
            "  df[amenity] = amenities.apply(lambda x: 1 if amenity in x else 0)\n",
            "<ipython-input-19-43f9f102742f>:17: PerformanceWarning: DataFrame is highly fragmented.  This is usually the result of calling `frame.insert` many times, which has poor performance.  Consider joining all columns at once using pd.concat(axis=1) instead. To get a de-fragmented frame, use `newframe = frame.copy()`\n",
            "  df[amenity] = amenities.apply(lambda x: 1 if amenity in x else 0)\n",
            "<ipython-input-19-43f9f102742f>:17: PerformanceWarning: DataFrame is highly fragmented.  This is usually the result of calling `frame.insert` many times, which has poor performance.  Consider joining all columns at once using pd.concat(axis=1) instead. To get a de-fragmented frame, use `newframe = frame.copy()`\n",
            "  df[amenity] = amenities.apply(lambda x: 1 if amenity in x else 0)\n",
            "<ipython-input-19-43f9f102742f>:17: PerformanceWarning: DataFrame is highly fragmented.  This is usually the result of calling `frame.insert` many times, which has poor performance.  Consider joining all columns at once using pd.concat(axis=1) instead. To get a de-fragmented frame, use `newframe = frame.copy()`\n",
            "  df[amenity] = amenities.apply(lambda x: 1 if amenity in x else 0)\n",
            "<ipython-input-19-43f9f102742f>:17: PerformanceWarning: DataFrame is highly fragmented.  This is usually the result of calling `frame.insert` many times, which has poor performance.  Consider joining all columns at once using pd.concat(axis=1) instead. To get a de-fragmented frame, use `newframe = frame.copy()`\n",
            "  df[amenity] = amenities.apply(lambda x: 1 if amenity in x else 0)\n",
            "<ipython-input-19-43f9f102742f>:17: PerformanceWarning: DataFrame is highly fragmented.  This is usually the result of calling `frame.insert` many times, which has poor performance.  Consider joining all columns at once using pd.concat(axis=1) instead. To get a de-fragmented frame, use `newframe = frame.copy()`\n",
            "  df[amenity] = amenities.apply(lambda x: 1 if amenity in x else 0)\n",
            "<ipython-input-19-43f9f102742f>:17: PerformanceWarning: DataFrame is highly fragmented.  This is usually the result of calling `frame.insert` many times, which has poor performance.  Consider joining all columns at once using pd.concat(axis=1) instead. To get a de-fragmented frame, use `newframe = frame.copy()`\n",
            "  df[amenity] = amenities.apply(lambda x: 1 if amenity in x else 0)\n",
            "<ipython-input-19-43f9f102742f>:17: PerformanceWarning: DataFrame is highly fragmented.  This is usually the result of calling `frame.insert` many times, which has poor performance.  Consider joining all columns at once using pd.concat(axis=1) instead. To get a de-fragmented frame, use `newframe = frame.copy()`\n",
            "  df[amenity] = amenities.apply(lambda x: 1 if amenity in x else 0)\n",
            "<ipython-input-19-43f9f102742f>:17: PerformanceWarning: DataFrame is highly fragmented.  This is usually the result of calling `frame.insert` many times, which has poor performance.  Consider joining all columns at once using pd.concat(axis=1) instead. To get a de-fragmented frame, use `newframe = frame.copy()`\n",
            "  df[amenity] = amenities.apply(lambda x: 1 if amenity in x else 0)\n",
            "<ipython-input-19-43f9f102742f>:17: PerformanceWarning: DataFrame is highly fragmented.  This is usually the result of calling `frame.insert` many times, which has poor performance.  Consider joining all columns at once using pd.concat(axis=1) instead. To get a de-fragmented frame, use `newframe = frame.copy()`\n",
            "  df[amenity] = amenities.apply(lambda x: 1 if amenity in x else 0)\n",
            "<ipython-input-19-43f9f102742f>:17: PerformanceWarning: DataFrame is highly fragmented.  This is usually the result of calling `frame.insert` many times, which has poor performance.  Consider joining all columns at once using pd.concat(axis=1) instead. To get a de-fragmented frame, use `newframe = frame.copy()`\n",
            "  df[amenity] = amenities.apply(lambda x: 1 if amenity in x else 0)\n",
            "<ipython-input-19-43f9f102742f>:17: PerformanceWarning: DataFrame is highly fragmented.  This is usually the result of calling `frame.insert` many times, which has poor performance.  Consider joining all columns at once using pd.concat(axis=1) instead. To get a de-fragmented frame, use `newframe = frame.copy()`\n",
            "  df[amenity] = amenities.apply(lambda x: 1 if amenity in x else 0)\n",
            "<ipython-input-19-43f9f102742f>:17: PerformanceWarning: DataFrame is highly fragmented.  This is usually the result of calling `frame.insert` many times, which has poor performance.  Consider joining all columns at once using pd.concat(axis=1) instead. To get a de-fragmented frame, use `newframe = frame.copy()`\n",
            "  df[amenity] = amenities.apply(lambda x: 1 if amenity in x else 0)\n",
            "<ipython-input-19-43f9f102742f>:17: PerformanceWarning: DataFrame is highly fragmented.  This is usually the result of calling `frame.insert` many times, which has poor performance.  Consider joining all columns at once using pd.concat(axis=1) instead. To get a de-fragmented frame, use `newframe = frame.copy()`\n",
            "  df[amenity] = amenities.apply(lambda x: 1 if amenity in x else 0)\n",
            "<ipython-input-19-43f9f102742f>:17: PerformanceWarning: DataFrame is highly fragmented.  This is usually the result of calling `frame.insert` many times, which has poor performance.  Consider joining all columns at once using pd.concat(axis=1) instead. To get a de-fragmented frame, use `newframe = frame.copy()`\n",
            "  df[amenity] = amenities.apply(lambda x: 1 if amenity in x else 0)\n",
            "<ipython-input-19-43f9f102742f>:17: PerformanceWarning: DataFrame is highly fragmented.  This is usually the result of calling `frame.insert` many times, which has poor performance.  Consider joining all columns at once using pd.concat(axis=1) instead. To get a de-fragmented frame, use `newframe = frame.copy()`\n",
            "  df[amenity] = amenities.apply(lambda x: 1 if amenity in x else 0)\n",
            "<ipython-input-19-43f9f102742f>:17: PerformanceWarning: DataFrame is highly fragmented.  This is usually the result of calling `frame.insert` many times, which has poor performance.  Consider joining all columns at once using pd.concat(axis=1) instead. To get a de-fragmented frame, use `newframe = frame.copy()`\n",
            "  df[amenity] = amenities.apply(lambda x: 1 if amenity in x else 0)\n",
            "<ipython-input-19-43f9f102742f>:17: PerformanceWarning: DataFrame is highly fragmented.  This is usually the result of calling `frame.insert` many times, which has poor performance.  Consider joining all columns at once using pd.concat(axis=1) instead. To get a de-fragmented frame, use `newframe = frame.copy()`\n",
            "  df[amenity] = amenities.apply(lambda x: 1 if amenity in x else 0)\n",
            "<ipython-input-19-43f9f102742f>:17: PerformanceWarning: DataFrame is highly fragmented.  This is usually the result of calling `frame.insert` many times, which has poor performance.  Consider joining all columns at once using pd.concat(axis=1) instead. To get a de-fragmented frame, use `newframe = frame.copy()`\n",
            "  df[amenity] = amenities.apply(lambda x: 1 if amenity in x else 0)\n",
            "<ipython-input-19-43f9f102742f>:17: PerformanceWarning: DataFrame is highly fragmented.  This is usually the result of calling `frame.insert` many times, which has poor performance.  Consider joining all columns at once using pd.concat(axis=1) instead. To get a de-fragmented frame, use `newframe = frame.copy()`\n",
            "  df[amenity] = amenities.apply(lambda x: 1 if amenity in x else 0)\n",
            "<ipython-input-19-43f9f102742f>:17: PerformanceWarning: DataFrame is highly fragmented.  This is usually the result of calling `frame.insert` many times, which has poor performance.  Consider joining all columns at once using pd.concat(axis=1) instead. To get a de-fragmented frame, use `newframe = frame.copy()`\n",
            "  df[amenity] = amenities.apply(lambda x: 1 if amenity in x else 0)\n",
            "<ipython-input-19-43f9f102742f>:17: PerformanceWarning: DataFrame is highly fragmented.  This is usually the result of calling `frame.insert` many times, which has poor performance.  Consider joining all columns at once using pd.concat(axis=1) instead. To get a de-fragmented frame, use `newframe = frame.copy()`\n",
            "  df[amenity] = amenities.apply(lambda x: 1 if amenity in x else 0)\n",
            "<ipython-input-19-43f9f102742f>:17: PerformanceWarning: DataFrame is highly fragmented.  This is usually the result of calling `frame.insert` many times, which has poor performance.  Consider joining all columns at once using pd.concat(axis=1) instead. To get a de-fragmented frame, use `newframe = frame.copy()`\n",
            "  df[amenity] = amenities.apply(lambda x: 1 if amenity in x else 0)\n",
            "<ipython-input-19-43f9f102742f>:17: PerformanceWarning: DataFrame is highly fragmented.  This is usually the result of calling `frame.insert` many times, which has poor performance.  Consider joining all columns at once using pd.concat(axis=1) instead. To get a de-fragmented frame, use `newframe = frame.copy()`\n",
            "  df[amenity] = amenities.apply(lambda x: 1 if amenity in x else 0)\n",
            "<ipython-input-19-43f9f102742f>:17: PerformanceWarning: DataFrame is highly fragmented.  This is usually the result of calling `frame.insert` many times, which has poor performance.  Consider joining all columns at once using pd.concat(axis=1) instead. To get a de-fragmented frame, use `newframe = frame.copy()`\n",
            "  df[amenity] = amenities.apply(lambda x: 1 if amenity in x else 0)\n",
            "<ipython-input-19-43f9f102742f>:17: PerformanceWarning: DataFrame is highly fragmented.  This is usually the result of calling `frame.insert` many times, which has poor performance.  Consider joining all columns at once using pd.concat(axis=1) instead. To get a de-fragmented frame, use `newframe = frame.copy()`\n",
            "  df[amenity] = amenities.apply(lambda x: 1 if amenity in x else 0)\n",
            "<ipython-input-19-43f9f102742f>:17: PerformanceWarning: DataFrame is highly fragmented.  This is usually the result of calling `frame.insert` many times, which has poor performance.  Consider joining all columns at once using pd.concat(axis=1) instead. To get a de-fragmented frame, use `newframe = frame.copy()`\n",
            "  df[amenity] = amenities.apply(lambda x: 1 if amenity in x else 0)\n",
            "<ipython-input-19-43f9f102742f>:17: PerformanceWarning: DataFrame is highly fragmented.  This is usually the result of calling `frame.insert` many times, which has poor performance.  Consider joining all columns at once using pd.concat(axis=1) instead. To get a de-fragmented frame, use `newframe = frame.copy()`\n",
            "  df[amenity] = amenities.apply(lambda x: 1 if amenity in x else 0)\n",
            "<ipython-input-19-43f9f102742f>:17: PerformanceWarning: DataFrame is highly fragmented.  This is usually the result of calling `frame.insert` many times, which has poor performance.  Consider joining all columns at once using pd.concat(axis=1) instead. To get a de-fragmented frame, use `newframe = frame.copy()`\n",
            "  df[amenity] = amenities.apply(lambda x: 1 if amenity in x else 0)\n",
            "<ipython-input-19-43f9f102742f>:17: PerformanceWarning: DataFrame is highly fragmented.  This is usually the result of calling `frame.insert` many times, which has poor performance.  Consider joining all columns at once using pd.concat(axis=1) instead. To get a de-fragmented frame, use `newframe = frame.copy()`\n",
            "  df[amenity] = amenities.apply(lambda x: 1 if amenity in x else 0)\n",
            "<ipython-input-19-43f9f102742f>:17: PerformanceWarning: DataFrame is highly fragmented.  This is usually the result of calling `frame.insert` many times, which has poor performance.  Consider joining all columns at once using pd.concat(axis=1) instead. To get a de-fragmented frame, use `newframe = frame.copy()`\n",
            "  df[amenity] = amenities.apply(lambda x: 1 if amenity in x else 0)\n",
            "<ipython-input-19-43f9f102742f>:17: PerformanceWarning: DataFrame is highly fragmented.  This is usually the result of calling `frame.insert` many times, which has poor performance.  Consider joining all columns at once using pd.concat(axis=1) instead. To get a de-fragmented frame, use `newframe = frame.copy()`\n",
            "  df[amenity] = amenities.apply(lambda x: 1 if amenity in x else 0)\n",
            "<ipython-input-19-43f9f102742f>:17: PerformanceWarning: DataFrame is highly fragmented.  This is usually the result of calling `frame.insert` many times, which has poor performance.  Consider joining all columns at once using pd.concat(axis=1) instead. To get a de-fragmented frame, use `newframe = frame.copy()`\n",
            "  df[amenity] = amenities.apply(lambda x: 1 if amenity in x else 0)\n",
            "<ipython-input-19-43f9f102742f>:17: PerformanceWarning: DataFrame is highly fragmented.  This is usually the result of calling `frame.insert` many times, which has poor performance.  Consider joining all columns at once using pd.concat(axis=1) instead. To get a de-fragmented frame, use `newframe = frame.copy()`\n",
            "  df[amenity] = amenities.apply(lambda x: 1 if amenity in x else 0)\n",
            "<ipython-input-19-43f9f102742f>:17: PerformanceWarning: DataFrame is highly fragmented.  This is usually the result of calling `frame.insert` many times, which has poor performance.  Consider joining all columns at once using pd.concat(axis=1) instead. To get a de-fragmented frame, use `newframe = frame.copy()`\n",
            "  df[amenity] = amenities.apply(lambda x: 1 if amenity in x else 0)\n",
            "<ipython-input-19-43f9f102742f>:17: PerformanceWarning: DataFrame is highly fragmented.  This is usually the result of calling `frame.insert` many times, which has poor performance.  Consider joining all columns at once using pd.concat(axis=1) instead. To get a de-fragmented frame, use `newframe = frame.copy()`\n",
            "  df[amenity] = amenities.apply(lambda x: 1 if amenity in x else 0)\n",
            "<ipython-input-19-43f9f102742f>:17: PerformanceWarning: DataFrame is highly fragmented.  This is usually the result of calling `frame.insert` many times, which has poor performance.  Consider joining all columns at once using pd.concat(axis=1) instead. To get a de-fragmented frame, use `newframe = frame.copy()`\n",
            "  df[amenity] = amenities.apply(lambda x: 1 if amenity in x else 0)\n",
            "<ipython-input-19-43f9f102742f>:17: PerformanceWarning: DataFrame is highly fragmented.  This is usually the result of calling `frame.insert` many times, which has poor performance.  Consider joining all columns at once using pd.concat(axis=1) instead. To get a de-fragmented frame, use `newframe = frame.copy()`\n",
            "  df[amenity] = amenities.apply(lambda x: 1 if amenity in x else 0)\n",
            "<ipython-input-19-43f9f102742f>:17: PerformanceWarning: DataFrame is highly fragmented.  This is usually the result of calling `frame.insert` many times, which has poor performance.  Consider joining all columns at once using pd.concat(axis=1) instead. To get a de-fragmented frame, use `newframe = frame.copy()`\n",
            "  df[amenity] = amenities.apply(lambda x: 1 if amenity in x else 0)\n",
            "<ipython-input-19-43f9f102742f>:17: PerformanceWarning: DataFrame is highly fragmented.  This is usually the result of calling `frame.insert` many times, which has poor performance.  Consider joining all columns at once using pd.concat(axis=1) instead. To get a de-fragmented frame, use `newframe = frame.copy()`\n",
            "  df[amenity] = amenities.apply(lambda x: 1 if amenity in x else 0)\n",
            "<ipython-input-19-43f9f102742f>:17: PerformanceWarning: DataFrame is highly fragmented.  This is usually the result of calling `frame.insert` many times, which has poor performance.  Consider joining all columns at once using pd.concat(axis=1) instead. To get a de-fragmented frame, use `newframe = frame.copy()`\n",
            "  df[amenity] = amenities.apply(lambda x: 1 if amenity in x else 0)\n",
            "<ipython-input-19-43f9f102742f>:17: PerformanceWarning: DataFrame is highly fragmented.  This is usually the result of calling `frame.insert` many times, which has poor performance.  Consider joining all columns at once using pd.concat(axis=1) instead. To get a de-fragmented frame, use `newframe = frame.copy()`\n",
            "  df[amenity] = amenities.apply(lambda x: 1 if amenity in x else 0)\n",
            "<ipython-input-19-43f9f102742f>:17: PerformanceWarning: DataFrame is highly fragmented.  This is usually the result of calling `frame.insert` many times, which has poor performance.  Consider joining all columns at once using pd.concat(axis=1) instead. To get a de-fragmented frame, use `newframe = frame.copy()`\n",
            "  df[amenity] = amenities.apply(lambda x: 1 if amenity in x else 0)\n",
            "<ipython-input-19-43f9f102742f>:17: PerformanceWarning: DataFrame is highly fragmented.  This is usually the result of calling `frame.insert` many times, which has poor performance.  Consider joining all columns at once using pd.concat(axis=1) instead. To get a de-fragmented frame, use `newframe = frame.copy()`\n",
            "  df[amenity] = amenities.apply(lambda x: 1 if amenity in x else 0)\n",
            "<ipython-input-19-43f9f102742f>:17: PerformanceWarning: DataFrame is highly fragmented.  This is usually the result of calling `frame.insert` many times, which has poor performance.  Consider joining all columns at once using pd.concat(axis=1) instead. To get a de-fragmented frame, use `newframe = frame.copy()`\n",
            "  df[amenity] = amenities.apply(lambda x: 1 if amenity in x else 0)\n",
            "<ipython-input-19-43f9f102742f>:17: PerformanceWarning: DataFrame is highly fragmented.  This is usually the result of calling `frame.insert` many times, which has poor performance.  Consider joining all columns at once using pd.concat(axis=1) instead. To get a de-fragmented frame, use `newframe = frame.copy()`\n",
            "  df[amenity] = amenities.apply(lambda x: 1 if amenity in x else 0)\n",
            "<ipython-input-19-43f9f102742f>:17: PerformanceWarning: DataFrame is highly fragmented.  This is usually the result of calling `frame.insert` many times, which has poor performance.  Consider joining all columns at once using pd.concat(axis=1) instead. To get a de-fragmented frame, use `newframe = frame.copy()`\n",
            "  df[amenity] = amenities.apply(lambda x: 1 if amenity in x else 0)\n",
            "<ipython-input-19-43f9f102742f>:17: PerformanceWarning: DataFrame is highly fragmented.  This is usually the result of calling `frame.insert` many times, which has poor performance.  Consider joining all columns at once using pd.concat(axis=1) instead. To get a de-fragmented frame, use `newframe = frame.copy()`\n",
            "  df[amenity] = amenities.apply(lambda x: 1 if amenity in x else 0)\n",
            "<ipython-input-19-43f9f102742f>:17: PerformanceWarning: DataFrame is highly fragmented.  This is usually the result of calling `frame.insert` many times, which has poor performance.  Consider joining all columns at once using pd.concat(axis=1) instead. To get a de-fragmented frame, use `newframe = frame.copy()`\n",
            "  df[amenity] = amenities.apply(lambda x: 1 if amenity in x else 0)\n",
            "<ipython-input-19-43f9f102742f>:17: PerformanceWarning: DataFrame is highly fragmented.  This is usually the result of calling `frame.insert` many times, which has poor performance.  Consider joining all columns at once using pd.concat(axis=1) instead. To get a de-fragmented frame, use `newframe = frame.copy()`\n",
            "  df[amenity] = amenities.apply(lambda x: 1 if amenity in x else 0)\n",
            "<ipython-input-19-43f9f102742f>:17: PerformanceWarning: DataFrame is highly fragmented.  This is usually the result of calling `frame.insert` many times, which has poor performance.  Consider joining all columns at once using pd.concat(axis=1) instead. To get a de-fragmented frame, use `newframe = frame.copy()`\n",
            "  df[amenity] = amenities.apply(lambda x: 1 if amenity in x else 0)\n",
            "<ipython-input-19-43f9f102742f>:17: PerformanceWarning: DataFrame is highly fragmented.  This is usually the result of calling `frame.insert` many times, which has poor performance.  Consider joining all columns at once using pd.concat(axis=1) instead. To get a de-fragmented frame, use `newframe = frame.copy()`\n",
            "  df[amenity] = amenities.apply(lambda x: 1 if amenity in x else 0)\n",
            "<ipython-input-19-43f9f102742f>:17: PerformanceWarning: DataFrame is highly fragmented.  This is usually the result of calling `frame.insert` many times, which has poor performance.  Consider joining all columns at once using pd.concat(axis=1) instead. To get a de-fragmented frame, use `newframe = frame.copy()`\n",
            "  df[amenity] = amenities.apply(lambda x: 1 if amenity in x else 0)\n",
            "<ipython-input-19-43f9f102742f>:17: PerformanceWarning: DataFrame is highly fragmented.  This is usually the result of calling `frame.insert` many times, which has poor performance.  Consider joining all columns at once using pd.concat(axis=1) instead. To get a de-fragmented frame, use `newframe = frame.copy()`\n",
            "  df[amenity] = amenities.apply(lambda x: 1 if amenity in x else 0)\n",
            "<ipython-input-19-43f9f102742f>:17: PerformanceWarning: DataFrame is highly fragmented.  This is usually the result of calling `frame.insert` many times, which has poor performance.  Consider joining all columns at once using pd.concat(axis=1) instead. To get a de-fragmented frame, use `newframe = frame.copy()`\n",
            "  df[amenity] = amenities.apply(lambda x: 1 if amenity in x else 0)\n",
            "<ipython-input-19-43f9f102742f>:17: PerformanceWarning: DataFrame is highly fragmented.  This is usually the result of calling `frame.insert` many times, which has poor performance.  Consider joining all columns at once using pd.concat(axis=1) instead. To get a de-fragmented frame, use `newframe = frame.copy()`\n",
            "  df[amenity] = amenities.apply(lambda x: 1 if amenity in x else 0)\n",
            "<ipython-input-19-43f9f102742f>:17: PerformanceWarning: DataFrame is highly fragmented.  This is usually the result of calling `frame.insert` many times, which has poor performance.  Consider joining all columns at once using pd.concat(axis=1) instead. To get a de-fragmented frame, use `newframe = frame.copy()`\n",
            "  df[amenity] = amenities.apply(lambda x: 1 if amenity in x else 0)\n",
            "<ipython-input-19-43f9f102742f>:17: PerformanceWarning: DataFrame is highly fragmented.  This is usually the result of calling `frame.insert` many times, which has poor performance.  Consider joining all columns at once using pd.concat(axis=1) instead. To get a de-fragmented frame, use `newframe = frame.copy()`\n",
            "  df[amenity] = amenities.apply(lambda x: 1 if amenity in x else 0)\n",
            "<ipython-input-19-43f9f102742f>:17: PerformanceWarning: DataFrame is highly fragmented.  This is usually the result of calling `frame.insert` many times, which has poor performance.  Consider joining all columns at once using pd.concat(axis=1) instead. To get a de-fragmented frame, use `newframe = frame.copy()`\n",
            "  df[amenity] = amenities.apply(lambda x: 1 if amenity in x else 0)\n",
            "<ipython-input-19-43f9f102742f>:17: PerformanceWarning: DataFrame is highly fragmented.  This is usually the result of calling `frame.insert` many times, which has poor performance.  Consider joining all columns at once using pd.concat(axis=1) instead. To get a de-fragmented frame, use `newframe = frame.copy()`\n",
            "  df[amenity] = amenities.apply(lambda x: 1 if amenity in x else 0)\n",
            "<ipython-input-19-43f9f102742f>:17: PerformanceWarning: DataFrame is highly fragmented.  This is usually the result of calling `frame.insert` many times, which has poor performance.  Consider joining all columns at once using pd.concat(axis=1) instead. To get a de-fragmented frame, use `newframe = frame.copy()`\n",
            "  df[amenity] = amenities.apply(lambda x: 1 if amenity in x else 0)\n",
            "<ipython-input-19-43f9f102742f>:17: PerformanceWarning: DataFrame is highly fragmented.  This is usually the result of calling `frame.insert` many times, which has poor performance.  Consider joining all columns at once using pd.concat(axis=1) instead. To get a de-fragmented frame, use `newframe = frame.copy()`\n",
            "  df[amenity] = amenities.apply(lambda x: 1 if amenity in x else 0)\n",
            "<ipython-input-19-43f9f102742f>:17: PerformanceWarning: DataFrame is highly fragmented.  This is usually the result of calling `frame.insert` many times, which has poor performance.  Consider joining all columns at once using pd.concat(axis=1) instead. To get a de-fragmented frame, use `newframe = frame.copy()`\n",
            "  df[amenity] = amenities.apply(lambda x: 1 if amenity in x else 0)\n",
            "<ipython-input-19-43f9f102742f>:17: PerformanceWarning: DataFrame is highly fragmented.  This is usually the result of calling `frame.insert` many times, which has poor performance.  Consider joining all columns at once using pd.concat(axis=1) instead. To get a de-fragmented frame, use `newframe = frame.copy()`\n",
            "  df[amenity] = amenities.apply(lambda x: 1 if amenity in x else 0)\n",
            "<ipython-input-19-43f9f102742f>:17: PerformanceWarning: DataFrame is highly fragmented.  This is usually the result of calling `frame.insert` many times, which has poor performance.  Consider joining all columns at once using pd.concat(axis=1) instead. To get a de-fragmented frame, use `newframe = frame.copy()`\n",
            "  df[amenity] = amenities.apply(lambda x: 1 if amenity in x else 0)\n",
            "<ipython-input-19-43f9f102742f>:17: PerformanceWarning: DataFrame is highly fragmented.  This is usually the result of calling `frame.insert` many times, which has poor performance.  Consider joining all columns at once using pd.concat(axis=1) instead. To get a de-fragmented frame, use `newframe = frame.copy()`\n",
            "  df[amenity] = amenities.apply(lambda x: 1 if amenity in x else 0)\n",
            "<ipython-input-19-43f9f102742f>:17: PerformanceWarning: DataFrame is highly fragmented.  This is usually the result of calling `frame.insert` many times, which has poor performance.  Consider joining all columns at once using pd.concat(axis=1) instead. To get a de-fragmented frame, use `newframe = frame.copy()`\n",
            "  df[amenity] = amenities.apply(lambda x: 1 if amenity in x else 0)\n",
            "<ipython-input-19-43f9f102742f>:17: PerformanceWarning: DataFrame is highly fragmented.  This is usually the result of calling `frame.insert` many times, which has poor performance.  Consider joining all columns at once using pd.concat(axis=1) instead. To get a de-fragmented frame, use `newframe = frame.copy()`\n",
            "  df[amenity] = amenities.apply(lambda x: 1 if amenity in x else 0)\n",
            "<ipython-input-19-43f9f102742f>:17: PerformanceWarning: DataFrame is highly fragmented.  This is usually the result of calling `frame.insert` many times, which has poor performance.  Consider joining all columns at once using pd.concat(axis=1) instead. To get a de-fragmented frame, use `newframe = frame.copy()`\n",
            "  df[amenity] = amenities.apply(lambda x: 1 if amenity in x else 0)\n",
            "<ipython-input-19-43f9f102742f>:17: PerformanceWarning: DataFrame is highly fragmented.  This is usually the result of calling `frame.insert` many times, which has poor performance.  Consider joining all columns at once using pd.concat(axis=1) instead. To get a de-fragmented frame, use `newframe = frame.copy()`\n",
            "  df[amenity] = amenities.apply(lambda x: 1 if amenity in x else 0)\n",
            "<ipython-input-19-43f9f102742f>:17: PerformanceWarning: DataFrame is highly fragmented.  This is usually the result of calling `frame.insert` many times, which has poor performance.  Consider joining all columns at once using pd.concat(axis=1) instead. To get a de-fragmented frame, use `newframe = frame.copy()`\n",
            "  df[amenity] = amenities.apply(lambda x: 1 if amenity in x else 0)\n",
            "<ipython-input-19-43f9f102742f>:17: PerformanceWarning: DataFrame is highly fragmented.  This is usually the result of calling `frame.insert` many times, which has poor performance.  Consider joining all columns at once using pd.concat(axis=1) instead. To get a de-fragmented frame, use `newframe = frame.copy()`\n",
            "  df[amenity] = amenities.apply(lambda x: 1 if amenity in x else 0)\n",
            "<ipython-input-19-43f9f102742f>:17: PerformanceWarning: DataFrame is highly fragmented.  This is usually the result of calling `frame.insert` many times, which has poor performance.  Consider joining all columns at once using pd.concat(axis=1) instead. To get a de-fragmented frame, use `newframe = frame.copy()`\n",
            "  df[amenity] = amenities.apply(lambda x: 1 if amenity in x else 0)\n",
            "<ipython-input-19-43f9f102742f>:17: PerformanceWarning: DataFrame is highly fragmented.  This is usually the result of calling `frame.insert` many times, which has poor performance.  Consider joining all columns at once using pd.concat(axis=1) instead. To get a de-fragmented frame, use `newframe = frame.copy()`\n",
            "  df[amenity] = amenities.apply(lambda x: 1 if amenity in x else 0)\n",
            "<ipython-input-19-43f9f102742f>:17: PerformanceWarning: DataFrame is highly fragmented.  This is usually the result of calling `frame.insert` many times, which has poor performance.  Consider joining all columns at once using pd.concat(axis=1) instead. To get a de-fragmented frame, use `newframe = frame.copy()`\n",
            "  df[amenity] = amenities.apply(lambda x: 1 if amenity in x else 0)\n",
            "<ipython-input-19-43f9f102742f>:17: PerformanceWarning: DataFrame is highly fragmented.  This is usually the result of calling `frame.insert` many times, which has poor performance.  Consider joining all columns at once using pd.concat(axis=1) instead. To get a de-fragmented frame, use `newframe = frame.copy()`\n",
            "  df[amenity] = amenities.apply(lambda x: 1 if amenity in x else 0)\n",
            "<ipython-input-19-43f9f102742f>:17: PerformanceWarning: DataFrame is highly fragmented.  This is usually the result of calling `frame.insert` many times, which has poor performance.  Consider joining all columns at once using pd.concat(axis=1) instead. To get a de-fragmented frame, use `newframe = frame.copy()`\n",
            "  df[amenity] = amenities.apply(lambda x: 1 if amenity in x else 0)\n",
            "<ipython-input-19-43f9f102742f>:17: PerformanceWarning: DataFrame is highly fragmented.  This is usually the result of calling `frame.insert` many times, which has poor performance.  Consider joining all columns at once using pd.concat(axis=1) instead. To get a de-fragmented frame, use `newframe = frame.copy()`\n",
            "  df[amenity] = amenities.apply(lambda x: 1 if amenity in x else 0)\n",
            "<ipython-input-19-43f9f102742f>:17: PerformanceWarning: DataFrame is highly fragmented.  This is usually the result of calling `frame.insert` many times, which has poor performance.  Consider joining all columns at once using pd.concat(axis=1) instead. To get a de-fragmented frame, use `newframe = frame.copy()`\n",
            "  df[amenity] = amenities.apply(lambda x: 1 if amenity in x else 0)\n",
            "<ipython-input-19-43f9f102742f>:17: PerformanceWarning: DataFrame is highly fragmented.  This is usually the result of calling `frame.insert` many times, which has poor performance.  Consider joining all columns at once using pd.concat(axis=1) instead. To get a de-fragmented frame, use `newframe = frame.copy()`\n",
            "  df[amenity] = amenities.apply(lambda x: 1 if amenity in x else 0)\n",
            "<ipython-input-19-43f9f102742f>:17: PerformanceWarning: DataFrame is highly fragmented.  This is usually the result of calling `frame.insert` many times, which has poor performance.  Consider joining all columns at once using pd.concat(axis=1) instead. To get a de-fragmented frame, use `newframe = frame.copy()`\n",
            "  df[amenity] = amenities.apply(lambda x: 1 if amenity in x else 0)\n",
            "<ipython-input-19-43f9f102742f>:17: PerformanceWarning: DataFrame is highly fragmented.  This is usually the result of calling `frame.insert` many times, which has poor performance.  Consider joining all columns at once using pd.concat(axis=1) instead. To get a de-fragmented frame, use `newframe = frame.copy()`\n",
            "  df[amenity] = amenities.apply(lambda x: 1 if amenity in x else 0)\n",
            "<ipython-input-19-43f9f102742f>:17: PerformanceWarning: DataFrame is highly fragmented.  This is usually the result of calling `frame.insert` many times, which has poor performance.  Consider joining all columns at once using pd.concat(axis=1) instead. To get a de-fragmented frame, use `newframe = frame.copy()`\n",
            "  df[amenity] = amenities.apply(lambda x: 1 if amenity in x else 0)\n",
            "<ipython-input-19-43f9f102742f>:17: PerformanceWarning: DataFrame is highly fragmented.  This is usually the result of calling `frame.insert` many times, which has poor performance.  Consider joining all columns at once using pd.concat(axis=1) instead. To get a de-fragmented frame, use `newframe = frame.copy()`\n",
            "  df[amenity] = amenities.apply(lambda x: 1 if amenity in x else 0)\n",
            "<ipython-input-19-43f9f102742f>:17: PerformanceWarning: DataFrame is highly fragmented.  This is usually the result of calling `frame.insert` many times, which has poor performance.  Consider joining all columns at once using pd.concat(axis=1) instead. To get a de-fragmented frame, use `newframe = frame.copy()`\n",
            "  df[amenity] = amenities.apply(lambda x: 1 if amenity in x else 0)\n",
            "<ipython-input-19-43f9f102742f>:17: PerformanceWarning: DataFrame is highly fragmented.  This is usually the result of calling `frame.insert` many times, which has poor performance.  Consider joining all columns at once using pd.concat(axis=1) instead. To get a de-fragmented frame, use `newframe = frame.copy()`\n",
            "  df[amenity] = amenities.apply(lambda x: 1 if amenity in x else 0)\n",
            "<ipython-input-19-43f9f102742f>:17: PerformanceWarning: DataFrame is highly fragmented.  This is usually the result of calling `frame.insert` many times, which has poor performance.  Consider joining all columns at once using pd.concat(axis=1) instead. To get a de-fragmented frame, use `newframe = frame.copy()`\n",
            "  df[amenity] = amenities.apply(lambda x: 1 if amenity in x else 0)\n",
            "<ipython-input-19-43f9f102742f>:17: PerformanceWarning: DataFrame is highly fragmented.  This is usually the result of calling `frame.insert` many times, which has poor performance.  Consider joining all columns at once using pd.concat(axis=1) instead. To get a de-fragmented frame, use `newframe = frame.copy()`\n",
            "  df[amenity] = amenities.apply(lambda x: 1 if amenity in x else 0)\n",
            "<ipython-input-19-43f9f102742f>:17: PerformanceWarning: DataFrame is highly fragmented.  This is usually the result of calling `frame.insert` many times, which has poor performance.  Consider joining all columns at once using pd.concat(axis=1) instead. To get a de-fragmented frame, use `newframe = frame.copy()`\n",
            "  df[amenity] = amenities.apply(lambda x: 1 if amenity in x else 0)\n",
            "<ipython-input-19-43f9f102742f>:17: PerformanceWarning: DataFrame is highly fragmented.  This is usually the result of calling `frame.insert` many times, which has poor performance.  Consider joining all columns at once using pd.concat(axis=1) instead. To get a de-fragmented frame, use `newframe = frame.copy()`\n",
            "  df[amenity] = amenities.apply(lambda x: 1 if amenity in x else 0)\n",
            "<ipython-input-19-43f9f102742f>:17: PerformanceWarning: DataFrame is highly fragmented.  This is usually the result of calling `frame.insert` many times, which has poor performance.  Consider joining all columns at once using pd.concat(axis=1) instead. To get a de-fragmented frame, use `newframe = frame.copy()`\n",
            "  df[amenity] = amenities.apply(lambda x: 1 if amenity in x else 0)\n",
            "<ipython-input-19-43f9f102742f>:17: PerformanceWarning: DataFrame is highly fragmented.  This is usually the result of calling `frame.insert` many times, which has poor performance.  Consider joining all columns at once using pd.concat(axis=1) instead. To get a de-fragmented frame, use `newframe = frame.copy()`\n",
            "  df[amenity] = amenities.apply(lambda x: 1 if amenity in x else 0)\n",
            "<ipython-input-19-43f9f102742f>:17: PerformanceWarning: DataFrame is highly fragmented.  This is usually the result of calling `frame.insert` many times, which has poor performance.  Consider joining all columns at once using pd.concat(axis=1) instead. To get a de-fragmented frame, use `newframe = frame.copy()`\n",
            "  df[amenity] = amenities.apply(lambda x: 1 if amenity in x else 0)\n",
            "<ipython-input-19-43f9f102742f>:17: PerformanceWarning: DataFrame is highly fragmented.  This is usually the result of calling `frame.insert` many times, which has poor performance.  Consider joining all columns at once using pd.concat(axis=1) instead. To get a de-fragmented frame, use `newframe = frame.copy()`\n",
            "  df[amenity] = amenities.apply(lambda x: 1 if amenity in x else 0)\n",
            "<ipython-input-19-43f9f102742f>:17: PerformanceWarning: DataFrame is highly fragmented.  This is usually the result of calling `frame.insert` many times, which has poor performance.  Consider joining all columns at once using pd.concat(axis=1) instead. To get a de-fragmented frame, use `newframe = frame.copy()`\n",
            "  df[amenity] = amenities.apply(lambda x: 1 if amenity in x else 0)\n",
            "<ipython-input-19-43f9f102742f>:17: PerformanceWarning: DataFrame is highly fragmented.  This is usually the result of calling `frame.insert` many times, which has poor performance.  Consider joining all columns at once using pd.concat(axis=1) instead. To get a de-fragmented frame, use `newframe = frame.copy()`\n",
            "  df[amenity] = amenities.apply(lambda x: 1 if amenity in x else 0)\n",
            "<ipython-input-19-43f9f102742f>:17: PerformanceWarning: DataFrame is highly fragmented.  This is usually the result of calling `frame.insert` many times, which has poor performance.  Consider joining all columns at once using pd.concat(axis=1) instead. To get a de-fragmented frame, use `newframe = frame.copy()`\n",
            "  df[amenity] = amenities.apply(lambda x: 1 if amenity in x else 0)\n",
            "<ipython-input-19-43f9f102742f>:17: PerformanceWarning: DataFrame is highly fragmented.  This is usually the result of calling `frame.insert` many times, which has poor performance.  Consider joining all columns at once using pd.concat(axis=1) instead. To get a de-fragmented frame, use `newframe = frame.copy()`\n",
            "  df[amenity] = amenities.apply(lambda x: 1 if amenity in x else 0)\n",
            "<ipython-input-19-43f9f102742f>:17: PerformanceWarning: DataFrame is highly fragmented.  This is usually the result of calling `frame.insert` many times, which has poor performance.  Consider joining all columns at once using pd.concat(axis=1) instead. To get a de-fragmented frame, use `newframe = frame.copy()`\n",
            "  df[amenity] = amenities.apply(lambda x: 1 if amenity in x else 0)\n",
            "<ipython-input-19-43f9f102742f>:17: PerformanceWarning: DataFrame is highly fragmented.  This is usually the result of calling `frame.insert` many times, which has poor performance.  Consider joining all columns at once using pd.concat(axis=1) instead. To get a de-fragmented frame, use `newframe = frame.copy()`\n",
            "  df[amenity] = amenities.apply(lambda x: 1 if amenity in x else 0)\n",
            "<ipython-input-19-43f9f102742f>:17: PerformanceWarning: DataFrame is highly fragmented.  This is usually the result of calling `frame.insert` many times, which has poor performance.  Consider joining all columns at once using pd.concat(axis=1) instead. To get a de-fragmented frame, use `newframe = frame.copy()`\n",
            "  df[amenity] = amenities.apply(lambda x: 1 if amenity in x else 0)\n",
            "<ipython-input-19-43f9f102742f>:17: PerformanceWarning: DataFrame is highly fragmented.  This is usually the result of calling `frame.insert` many times, which has poor performance.  Consider joining all columns at once using pd.concat(axis=1) instead. To get a de-fragmented frame, use `newframe = frame.copy()`\n",
            "  df[amenity] = amenities.apply(lambda x: 1 if amenity in x else 0)\n",
            "<ipython-input-19-43f9f102742f>:17: PerformanceWarning: DataFrame is highly fragmented.  This is usually the result of calling `frame.insert` many times, which has poor performance.  Consider joining all columns at once using pd.concat(axis=1) instead. To get a de-fragmented frame, use `newframe = frame.copy()`\n",
            "  df[amenity] = amenities.apply(lambda x: 1 if amenity in x else 0)\n",
            "<ipython-input-19-43f9f102742f>:17: PerformanceWarning: DataFrame is highly fragmented.  This is usually the result of calling `frame.insert` many times, which has poor performance.  Consider joining all columns at once using pd.concat(axis=1) instead. To get a de-fragmented frame, use `newframe = frame.copy()`\n",
            "  df[amenity] = amenities.apply(lambda x: 1 if amenity in x else 0)\n",
            "<ipython-input-19-43f9f102742f>:17: PerformanceWarning: DataFrame is highly fragmented.  This is usually the result of calling `frame.insert` many times, which has poor performance.  Consider joining all columns at once using pd.concat(axis=1) instead. To get a de-fragmented frame, use `newframe = frame.copy()`\n",
            "  df[amenity] = amenities.apply(lambda x: 1 if amenity in x else 0)\n",
            "<ipython-input-19-43f9f102742f>:17: PerformanceWarning: DataFrame is highly fragmented.  This is usually the result of calling `frame.insert` many times, which has poor performance.  Consider joining all columns at once using pd.concat(axis=1) instead. To get a de-fragmented frame, use `newframe = frame.copy()`\n",
            "  df[amenity] = amenities.apply(lambda x: 1 if amenity in x else 0)\n",
            "<ipython-input-19-43f9f102742f>:17: PerformanceWarning: DataFrame is highly fragmented.  This is usually the result of calling `frame.insert` many times, which has poor performance.  Consider joining all columns at once using pd.concat(axis=1) instead. To get a de-fragmented frame, use `newframe = frame.copy()`\n",
            "  df[amenity] = amenities.apply(lambda x: 1 if amenity in x else 0)\n",
            "<ipython-input-19-43f9f102742f>:17: PerformanceWarning: DataFrame is highly fragmented.  This is usually the result of calling `frame.insert` many times, which has poor performance.  Consider joining all columns at once using pd.concat(axis=1) instead. To get a de-fragmented frame, use `newframe = frame.copy()`\n",
            "  df[amenity] = amenities.apply(lambda x: 1 if amenity in x else 0)\n",
            "<ipython-input-19-43f9f102742f>:17: PerformanceWarning: DataFrame is highly fragmented.  This is usually the result of calling `frame.insert` many times, which has poor performance.  Consider joining all columns at once using pd.concat(axis=1) instead. To get a de-fragmented frame, use `newframe = frame.copy()`\n",
            "  df[amenity] = amenities.apply(lambda x: 1 if amenity in x else 0)\n",
            "<ipython-input-19-43f9f102742f>:17: PerformanceWarning: DataFrame is highly fragmented.  This is usually the result of calling `frame.insert` many times, which has poor performance.  Consider joining all columns at once using pd.concat(axis=1) instead. To get a de-fragmented frame, use `newframe = frame.copy()`\n",
            "  df[amenity] = amenities.apply(lambda x: 1 if amenity in x else 0)\n",
            "<ipython-input-19-43f9f102742f>:17: PerformanceWarning: DataFrame is highly fragmented.  This is usually the result of calling `frame.insert` many times, which has poor performance.  Consider joining all columns at once using pd.concat(axis=1) instead. To get a de-fragmented frame, use `newframe = frame.copy()`\n",
            "  df[amenity] = amenities.apply(lambda x: 1 if amenity in x else 0)\n",
            "<ipython-input-19-43f9f102742f>:17: PerformanceWarning: DataFrame is highly fragmented.  This is usually the result of calling `frame.insert` many times, which has poor performance.  Consider joining all columns at once using pd.concat(axis=1) instead. To get a de-fragmented frame, use `newframe = frame.copy()`\n",
            "  df[amenity] = amenities.apply(lambda x: 1 if amenity in x else 0)\n",
            "<ipython-input-19-43f9f102742f>:17: PerformanceWarning: DataFrame is highly fragmented.  This is usually the result of calling `frame.insert` many times, which has poor performance.  Consider joining all columns at once using pd.concat(axis=1) instead. To get a de-fragmented frame, use `newframe = frame.copy()`\n",
            "  df[amenity] = amenities.apply(lambda x: 1 if amenity in x else 0)\n",
            "<ipython-input-19-43f9f102742f>:17: PerformanceWarning: DataFrame is highly fragmented.  This is usually the result of calling `frame.insert` many times, which has poor performance.  Consider joining all columns at once using pd.concat(axis=1) instead. To get a de-fragmented frame, use `newframe = frame.copy()`\n",
            "  df[amenity] = amenities.apply(lambda x: 1 if amenity in x else 0)\n",
            "<ipython-input-19-43f9f102742f>:17: PerformanceWarning: DataFrame is highly fragmented.  This is usually the result of calling `frame.insert` many times, which has poor performance.  Consider joining all columns at once using pd.concat(axis=1) instead. To get a de-fragmented frame, use `newframe = frame.copy()`\n",
            "  df[amenity] = amenities.apply(lambda x: 1 if amenity in x else 0)\n",
            "<ipython-input-19-43f9f102742f>:17: PerformanceWarning: DataFrame is highly fragmented.  This is usually the result of calling `frame.insert` many times, which has poor performance.  Consider joining all columns at once using pd.concat(axis=1) instead. To get a de-fragmented frame, use `newframe = frame.copy()`\n",
            "  df[amenity] = amenities.apply(lambda x: 1 if amenity in x else 0)\n",
            "<ipython-input-19-43f9f102742f>:17: PerformanceWarning: DataFrame is highly fragmented.  This is usually the result of calling `frame.insert` many times, which has poor performance.  Consider joining all columns at once using pd.concat(axis=1) instead. To get a de-fragmented frame, use `newframe = frame.copy()`\n",
            "  df[amenity] = amenities.apply(lambda x: 1 if amenity in x else 0)\n",
            "<ipython-input-19-43f9f102742f>:17: PerformanceWarning: DataFrame is highly fragmented.  This is usually the result of calling `frame.insert` many times, which has poor performance.  Consider joining all columns at once using pd.concat(axis=1) instead. To get a de-fragmented frame, use `newframe = frame.copy()`\n",
            "  df[amenity] = amenities.apply(lambda x: 1 if amenity in x else 0)\n",
            "<ipython-input-19-43f9f102742f>:17: PerformanceWarning: DataFrame is highly fragmented.  This is usually the result of calling `frame.insert` many times, which has poor performance.  Consider joining all columns at once using pd.concat(axis=1) instead. To get a de-fragmented frame, use `newframe = frame.copy()`\n",
            "  df[amenity] = amenities.apply(lambda x: 1 if amenity in x else 0)\n",
            "<ipython-input-19-43f9f102742f>:17: PerformanceWarning: DataFrame is highly fragmented.  This is usually the result of calling `frame.insert` many times, which has poor performance.  Consider joining all columns at once using pd.concat(axis=1) instead. To get a de-fragmented frame, use `newframe = frame.copy()`\n",
            "  df[amenity] = amenities.apply(lambda x: 1 if amenity in x else 0)\n",
            "<ipython-input-19-43f9f102742f>:17: PerformanceWarning: DataFrame is highly fragmented.  This is usually the result of calling `frame.insert` many times, which has poor performance.  Consider joining all columns at once using pd.concat(axis=1) instead. To get a de-fragmented frame, use `newframe = frame.copy()`\n",
            "  df[amenity] = amenities.apply(lambda x: 1 if amenity in x else 0)\n",
            "<ipython-input-19-43f9f102742f>:17: PerformanceWarning: DataFrame is highly fragmented.  This is usually the result of calling `frame.insert` many times, which has poor performance.  Consider joining all columns at once using pd.concat(axis=1) instead. To get a de-fragmented frame, use `newframe = frame.copy()`\n",
            "  df[amenity] = amenities.apply(lambda x: 1 if amenity in x else 0)\n",
            "<ipython-input-19-43f9f102742f>:17: PerformanceWarning: DataFrame is highly fragmented.  This is usually the result of calling `frame.insert` many times, which has poor performance.  Consider joining all columns at once using pd.concat(axis=1) instead. To get a de-fragmented frame, use `newframe = frame.copy()`\n",
            "  df[amenity] = amenities.apply(lambda x: 1 if amenity in x else 0)\n",
            "<ipython-input-19-43f9f102742f>:17: PerformanceWarning: DataFrame is highly fragmented.  This is usually the result of calling `frame.insert` many times, which has poor performance.  Consider joining all columns at once using pd.concat(axis=1) instead. To get a de-fragmented frame, use `newframe = frame.copy()`\n",
            "  df[amenity] = amenities.apply(lambda x: 1 if amenity in x else 0)\n",
            "<ipython-input-19-43f9f102742f>:17: PerformanceWarning: DataFrame is highly fragmented.  This is usually the result of calling `frame.insert` many times, which has poor performance.  Consider joining all columns at once using pd.concat(axis=1) instead. To get a de-fragmented frame, use `newframe = frame.copy()`\n",
            "  df[amenity] = amenities.apply(lambda x: 1 if amenity in x else 0)\n",
            "<ipython-input-19-43f9f102742f>:17: PerformanceWarning: DataFrame is highly fragmented.  This is usually the result of calling `frame.insert` many times, which has poor performance.  Consider joining all columns at once using pd.concat(axis=1) instead. To get a de-fragmented frame, use `newframe = frame.copy()`\n",
            "  df[amenity] = amenities.apply(lambda x: 1 if amenity in x else 0)\n",
            "<ipython-input-19-43f9f102742f>:17: PerformanceWarning: DataFrame is highly fragmented.  This is usually the result of calling `frame.insert` many times, which has poor performance.  Consider joining all columns at once using pd.concat(axis=1) instead. To get a de-fragmented frame, use `newframe = frame.copy()`\n",
            "  df[amenity] = amenities.apply(lambda x: 1 if amenity in x else 0)\n",
            "<ipython-input-19-43f9f102742f>:17: PerformanceWarning: DataFrame is highly fragmented.  This is usually the result of calling `frame.insert` many times, which has poor performance.  Consider joining all columns at once using pd.concat(axis=1) instead. To get a de-fragmented frame, use `newframe = frame.copy()`\n",
            "  df[amenity] = amenities.apply(lambda x: 1 if amenity in x else 0)\n",
            "<ipython-input-19-43f9f102742f>:17: PerformanceWarning: DataFrame is highly fragmented.  This is usually the result of calling `frame.insert` many times, which has poor performance.  Consider joining all columns at once using pd.concat(axis=1) instead. To get a de-fragmented frame, use `newframe = frame.copy()`\n",
            "  df[amenity] = amenities.apply(lambda x: 1 if amenity in x else 0)\n",
            "<ipython-input-19-43f9f102742f>:17: PerformanceWarning: DataFrame is highly fragmented.  This is usually the result of calling `frame.insert` many times, which has poor performance.  Consider joining all columns at once using pd.concat(axis=1) instead. To get a de-fragmented frame, use `newframe = frame.copy()`\n",
            "  df[amenity] = amenities.apply(lambda x: 1 if amenity in x else 0)\n",
            "<ipython-input-19-43f9f102742f>:17: PerformanceWarning: DataFrame is highly fragmented.  This is usually the result of calling `frame.insert` many times, which has poor performance.  Consider joining all columns at once using pd.concat(axis=1) instead. To get a de-fragmented frame, use `newframe = frame.copy()`\n",
            "  df[amenity] = amenities.apply(lambda x: 1 if amenity in x else 0)\n",
            "<ipython-input-19-43f9f102742f>:17: PerformanceWarning: DataFrame is highly fragmented.  This is usually the result of calling `frame.insert` many times, which has poor performance.  Consider joining all columns at once using pd.concat(axis=1) instead. To get a de-fragmented frame, use `newframe = frame.copy()`\n",
            "  df[amenity] = amenities.apply(lambda x: 1 if amenity in x else 0)\n",
            "<ipython-input-19-43f9f102742f>:17: PerformanceWarning: DataFrame is highly fragmented.  This is usually the result of calling `frame.insert` many times, which has poor performance.  Consider joining all columns at once using pd.concat(axis=1) instead. To get a de-fragmented frame, use `newframe = frame.copy()`\n",
            "  df[amenity] = amenities.apply(lambda x: 1 if amenity in x else 0)\n",
            "<ipython-input-19-43f9f102742f>:17: PerformanceWarning: DataFrame is highly fragmented.  This is usually the result of calling `frame.insert` many times, which has poor performance.  Consider joining all columns at once using pd.concat(axis=1) instead. To get a de-fragmented frame, use `newframe = frame.copy()`\n",
            "  df[amenity] = amenities.apply(lambda x: 1 if amenity in x else 0)\n",
            "<ipython-input-19-43f9f102742f>:17: PerformanceWarning: DataFrame is highly fragmented.  This is usually the result of calling `frame.insert` many times, which has poor performance.  Consider joining all columns at once using pd.concat(axis=1) instead. To get a de-fragmented frame, use `newframe = frame.copy()`\n",
            "  df[amenity] = amenities.apply(lambda x: 1 if amenity in x else 0)\n",
            "<ipython-input-19-43f9f102742f>:17: PerformanceWarning: DataFrame is highly fragmented.  This is usually the result of calling `frame.insert` many times, which has poor performance.  Consider joining all columns at once using pd.concat(axis=1) instead. To get a de-fragmented frame, use `newframe = frame.copy()`\n",
            "  df[amenity] = amenities.apply(lambda x: 1 if amenity in x else 0)\n",
            "<ipython-input-19-43f9f102742f>:17: PerformanceWarning: DataFrame is highly fragmented.  This is usually the result of calling `frame.insert` many times, which has poor performance.  Consider joining all columns at once using pd.concat(axis=1) instead. To get a de-fragmented frame, use `newframe = frame.copy()`\n",
            "  df[amenity] = amenities.apply(lambda x: 1 if amenity in x else 0)\n",
            "<ipython-input-19-43f9f102742f>:17: PerformanceWarning: DataFrame is highly fragmented.  This is usually the result of calling `frame.insert` many times, which has poor performance.  Consider joining all columns at once using pd.concat(axis=1) instead. To get a de-fragmented frame, use `newframe = frame.copy()`\n",
            "  df[amenity] = amenities.apply(lambda x: 1 if amenity in x else 0)\n",
            "<ipython-input-19-43f9f102742f>:17: PerformanceWarning: DataFrame is highly fragmented.  This is usually the result of calling `frame.insert` many times, which has poor performance.  Consider joining all columns at once using pd.concat(axis=1) instead. To get a de-fragmented frame, use `newframe = frame.copy()`\n",
            "  df[amenity] = amenities.apply(lambda x: 1 if amenity in x else 0)\n",
            "<ipython-input-19-43f9f102742f>:17: PerformanceWarning: DataFrame is highly fragmented.  This is usually the result of calling `frame.insert` many times, which has poor performance.  Consider joining all columns at once using pd.concat(axis=1) instead. To get a de-fragmented frame, use `newframe = frame.copy()`\n",
            "  df[amenity] = amenities.apply(lambda x: 1 if amenity in x else 0)\n",
            "<ipython-input-19-43f9f102742f>:17: PerformanceWarning: DataFrame is highly fragmented.  This is usually the result of calling `frame.insert` many times, which has poor performance.  Consider joining all columns at once using pd.concat(axis=1) instead. To get a de-fragmented frame, use `newframe = frame.copy()`\n",
            "  df[amenity] = amenities.apply(lambda x: 1 if amenity in x else 0)\n",
            "<ipython-input-19-43f9f102742f>:17: PerformanceWarning: DataFrame is highly fragmented.  This is usually the result of calling `frame.insert` many times, which has poor performance.  Consider joining all columns at once using pd.concat(axis=1) instead. To get a de-fragmented frame, use `newframe = frame.copy()`\n",
            "  df[amenity] = amenities.apply(lambda x: 1 if amenity in x else 0)\n",
            "<ipython-input-19-43f9f102742f>:17: PerformanceWarning: DataFrame is highly fragmented.  This is usually the result of calling `frame.insert` many times, which has poor performance.  Consider joining all columns at once using pd.concat(axis=1) instead. To get a de-fragmented frame, use `newframe = frame.copy()`\n",
            "  df[amenity] = amenities.apply(lambda x: 1 if amenity in x else 0)\n"
          ]
        },
        {
          "output_type": "stream",
          "name": "stdout",
          "text": [
            "Top correlated amenities with log_price:\n",
            "accommodates                                     0.567574\n",
            "bedrooms                                         0.472422\n",
            "beds                                             0.441791\n",
            "bathrooms                                        0.354098\n",
            "\"Family/kid friendly\"                            0.288098\n",
            "{TV                                              0.262951\n",
            "\"Cable TV\"                                       0.237461\n",
            "Amenities_Count                                  0.194528\n",
            "Internet                                         0.194468\n",
            "\"Wireless Internet\"                              0.193538\n",
            "\"Indoor fireplace\"                               0.170614\n",
            "Washer                                           0.165601\n",
            "Dryer                                            0.164315\n",
            "\"Hair dryer\"                                     0.116736\n",
            "Doorman                                          0.116156\n",
            "\"Suitable for events\"                            0.114074\n",
            "Gym                                              0.112603\n",
            "\"24-hour check-in\"                               0.111486\n",
            "cleaning_fee                                     0.111191\n",
            "\"Laptop friendly workspace\"}                     0.106681\n",
            "Iron                                             0.105096\n",
            "Kitchen                                          0.103973\n",
            "Heating                                          0.102316\n",
            "Elevator                                         0.100624\n",
            "\"Lock on bedroom door\"                          -0.130664\n",
            "{Internet                                       -0.155502\n",
            "\"translation missing: en.hosting_amenity_50\"}   -0.189655\n",
            "{\"Wireless Internet\"                            -0.196519\n",
            "\"translation missing: en.hosting_amenity_49\"    -0.222915\n",
            "Name: log_price, dtype: float64\n"
          ]
        }
      ],
      "source": [
        "# Step 1: Parse amenities column to extract individual amenities\n",
        "amenities = df['amenities']\n",
        "\n",
        "# Step 2: Create binary variables for each amenity\n",
        "# Initialize a set to store all unique amenities\n",
        "unique_amenities = set()\n",
        "\n",
        "# Iterate over each row in the amenities column and add amenities to the set\n",
        "for row in amenities:\n",
        "    unique_amenities.update(row)\n",
        "\n",
        "# Remove empty strings and whitespace\n",
        "unique_amenities = {amenity.strip() for amenity in unique_amenities if amenity.strip()}\n",
        "\n",
        "# Create binary variables for each amenity\n",
        "for amenity in unique_amenities:\n",
        "    df[amenity] = amenities.apply(lambda x: 1 if amenity in x else 0)\n",
        "\n",
        "# Step 3: Calculate correlations\n",
        "# Exclude non-numeric columns like 'property_type'\n",
        "numeric_columns = df.select_dtypes(include=['float64', 'int64']).columns\n",
        "correlations = df[numeric_columns].corr()['log_price'].sort_values(ascending=False)\n",
        "\n",
        "# Step 4: Identify amenities most correlated with log_price\n",
        "top_correlated_amenities = correlations[correlations.abs() > 0.1].drop(['log_price'])\n",
        "\n",
        "# Display top correlated amenities\n",
        "print(\"Top correlated amenities with log_price:\")\n",
        "print(top_correlated_amenities)\n"
      ]
    },
    {
      "cell_type": "code",
      "execution_count": null,
      "metadata": {
        "colab": {
          "base_uri": "https://localhost:8080/"
        },
        "id": "JkMcpZFME7Xr",
        "outputId": "dad1f65f-7f10-486d-cf6c-fc72d17f8850"
      },
      "outputs": [
        {
          "output_type": "stream",
          "name": "stdout",
          "text": [
            "   log_price  amenities_score\n",
            "0   5.010635             23.0\n",
            "1   5.129899             39.0\n",
            "2   4.976734             39.0\n",
            "3   6.620073             34.0\n",
            "4   4.744932             22.0\n"
          ]
        },
        {
          "output_type": "stream",
          "name": "stderr",
          "text": [
            "<ipython-input-20-9cfb09b0da22>:5: PerformanceWarning: DataFrame is highly fragmented.  This is usually the result of calling `frame.insert` many times, which has poor performance.  Consider joining all columns at once using pd.concat(axis=1) instead. To get a de-fragmented frame, use `newframe = frame.copy()`\n",
            "  df['amenities_score'] = df[top_correlated_amenities.index].sum(axis=1)\n"
          ]
        }
      ],
      "source": [
        "# Select only the top correlated amenities\n",
        "top_correlated_amenities = correlations[correlations.abs() > 0.1].drop(['log_price'])\n",
        "\n",
        "# Calculate the score for each row\n",
        "df['amenities_score'] = df[top_correlated_amenities.index].sum(axis=1)\n",
        "\n",
        "# Display the DataFrame with the amenities score added\n",
        "print(df[['log_price', 'amenities_score']].head())\n"
      ]
    },
    {
      "cell_type": "code",
      "execution_count": null,
      "metadata": {
        "colab": {
          "base_uri": "https://localhost:8080/"
        },
        "id": "VfWDWWxXzjlh",
        "outputId": "051e5f5c-8154-460a-f03c-258b037c643b"
      },
      "outputs": [
        {
          "output_type": "stream",
          "name": "stdout",
          "text": [
            "Collecting category_encoders\n",
            "  Downloading category_encoders-2.6.3-py2.py3-none-any.whl (81 kB)\n",
            "\u001b[?25l     \u001b[90m━━━━━━━━━━━━━━━━━━━━━━━━━━━━━━━━━━━━━━━━\u001b[0m \u001b[32m0.0/81.9 kB\u001b[0m \u001b[31m?\u001b[0m eta \u001b[36m-:--:--\u001b[0m\r\u001b[2K     \u001b[91m━━━━━━━━━━━━━━━\u001b[0m\u001b[90m╺\u001b[0m\u001b[90m━━━━━━━━━━━━━━━━━━━━━━━━\u001b[0m \u001b[32m30.7/81.9 kB\u001b[0m \u001b[31m1.3 MB/s\u001b[0m eta \u001b[36m0:00:01\u001b[0m\r\u001b[2K     \u001b[90m━━━━━━━━━━━━━━━━━━━━━━━━━━━━━━━━━━━━━━━━\u001b[0m \u001b[32m81.9/81.9 kB\u001b[0m \u001b[31m1.2 MB/s\u001b[0m eta \u001b[36m0:00:00\u001b[0m\n",
            "\u001b[?25hRequirement already satisfied: numpy>=1.14.0 in /usr/local/lib/python3.10/dist-packages (from category_encoders) (1.25.2)\n",
            "Requirement already satisfied: scikit-learn>=0.20.0 in /usr/local/lib/python3.10/dist-packages (from category_encoders) (1.2.2)\n",
            "Requirement already satisfied: scipy>=1.0.0 in /usr/local/lib/python3.10/dist-packages (from category_encoders) (1.11.4)\n",
            "Requirement already satisfied: statsmodels>=0.9.0 in /usr/local/lib/python3.10/dist-packages (from category_encoders) (0.14.2)\n",
            "Requirement already satisfied: pandas>=1.0.5 in /usr/local/lib/python3.10/dist-packages (from category_encoders) (2.0.3)\n",
            "Requirement already satisfied: patsy>=0.5.1 in /usr/local/lib/python3.10/dist-packages (from category_encoders) (0.5.6)\n",
            "Requirement already satisfied: python-dateutil>=2.8.2 in /usr/local/lib/python3.10/dist-packages (from pandas>=1.0.5->category_encoders) (2.8.2)\n",
            "Requirement already satisfied: pytz>=2020.1 in /usr/local/lib/python3.10/dist-packages (from pandas>=1.0.5->category_encoders) (2023.4)\n",
            "Requirement already satisfied: tzdata>=2022.1 in /usr/local/lib/python3.10/dist-packages (from pandas>=1.0.5->category_encoders) (2024.1)\n",
            "Requirement already satisfied: six in /usr/local/lib/python3.10/dist-packages (from patsy>=0.5.1->category_encoders) (1.16.0)\n",
            "Requirement already satisfied: joblib>=1.1.1 in /usr/local/lib/python3.10/dist-packages (from scikit-learn>=0.20.0->category_encoders) (1.4.2)\n",
            "Requirement already satisfied: threadpoolctl>=2.0.0 in /usr/local/lib/python3.10/dist-packages (from scikit-learn>=0.20.0->category_encoders) (3.5.0)\n",
            "Requirement already satisfied: packaging>=21.3 in /usr/local/lib/python3.10/dist-packages (from statsmodels>=0.9.0->category_encoders) (24.0)\n",
            "Installing collected packages: category_encoders\n",
            "Successfully installed category_encoders-2.6.3\n"
          ]
        }
      ],
      "source": [
        "!pip install category_encoders"
      ]
    },
    {
      "cell_type": "markdown",
      "source": [
        "# **6. Categorical Data Encoding:**"
      ],
      "metadata": {
        "id": "Dv_Ox6tWc-pi"
      }
    },
    {
      "cell_type": "code",
      "source": [
        "import pandas as pd\n",
        "\n",
        "# Select categorical columns for one-hot encoding\n",
        "categorical_columns = ['room_type', 'city', 'property_type']\n",
        "\n",
        "# Apply one-hot encoding\n",
        "df_encoded = pd.get_dummies(df, columns=categorical_columns, drop_first=True)\n",
        "\n",
        "# Display the DataFrame with one-hot encoded columns\n",
        "print(df_encoded.head())"
      ],
      "metadata": {
        "colab": {
          "base_uri": "https://localhost:8080/"
        },
        "id": "EXLj8q2UXCAv",
        "outputId": "c7683981-f438-4086-9b85-8c903e9a8baa"
      },
      "execution_count": null,
      "outputs": [
        {
          "output_type": "stream",
          "name": "stdout",
          "text": [
            "         id  log_price                                          amenities  \\\n",
            "0   6901257   5.010635  [{\"Wireless Internet\", \"Air conditioning\", Kit...   \n",
            "1   6304928   5.129899  [{\"Wireless Internet\", \"Air conditioning\", Kit...   \n",
            "2   7919400   4.976734  [{TV, \"Cable TV\", \"Wireless Internet\", \"Air co...   \n",
            "3  13418779   6.620073  [{TV, \"Cable TV\", Internet, \"Wireless Internet...   \n",
            "4   3808709   4.744932  [{TV, Internet, \"Wireless Internet\", \"Air cond...   \n",
            "\n",
            "   accommodates  bathrooms  bed_type cancellation_policy  cleaning_fee  \\\n",
            "0             3        1.0  Real Bed              strict             1   \n",
            "1             7        1.0  Real Bed              strict             1   \n",
            "2             5        1.0  Real Bed            moderate             1   \n",
            "3             4        1.0  Real Bed            flexible             1   \n",
            "4             2        1.0  Real Bed            moderate             1   \n",
            "\n",
            "                                         description first_review  ...  \\\n",
            "0  Beautiful, sunlit brownstone 1-bedroom in the ...   2016-06-18  ...   \n",
            "1  Enjoy travelling during your stay in Manhattan...   2017-08-05  ...   \n",
            "2  The Oasis comes complete with a full backyard ...   2017-04-30  ...   \n",
            "3  This light-filled home-away-from-home is super...          NaT  ...   \n",
            "4  Cool, cozy, and comfortable studio located in ...   2015-05-12  ...   \n",
            "\n",
            "  property_type_Serviced apartment property_type_Tent  \\\n",
            "0                            False              False   \n",
            "1                            False              False   \n",
            "2                            False              False   \n",
            "3                            False              False   \n",
            "4                            False              False   \n",
            "\n",
            "   property_type_Timeshare property_type_Tipi property_type_Townhouse  \\\n",
            "0                    False              False                   False   \n",
            "1                    False              False                   False   \n",
            "2                    False              False                   False   \n",
            "3                    False              False                   False   \n",
            "4                    False              False                   False   \n",
            "\n",
            "  property_type_Train  property_type_Treehouse  property_type_Vacation home  \\\n",
            "0               False                    False                        False   \n",
            "1               False                    False                        False   \n",
            "2               False                    False                        False   \n",
            "3               False                    False                        False   \n",
            "4               False                    False                        False   \n",
            "\n",
            "  property_type_Villa property_type_Yurt  \n",
            "0               False              False  \n",
            "1               False              False  \n",
            "2               False              False  \n",
            "3               False              False  \n",
            "4               False              False  \n",
            "\n",
            "[5 rows x 366 columns]\n"
          ]
        }
      ]
    },
    {
      "cell_type": "markdown",
      "source": [],
      "metadata": {
        "id": "gU5f41fNL1bM"
      }
    },
    {
      "cell_type": "markdown",
      "source": [
        "# 7. Model Development and Training,\n",
        "   # Model Optimization and Validation:"
      ],
      "metadata": {
        "id": "jX4soavmHfTn"
      }
    },
    {
      "cell_type": "code",
      "execution_count": null,
      "metadata": {
        "id": "SgWQSbo3y48o"
      },
      "outputs": [],
      "source": [
        "features = df_encoded[['amenities_score', 'sentiment_score', 'bathrooms', 'bedrooms', 'beds', 'Amenities_Count', 'zipcode', 'cleaning_fee'] +\n",
        "                  list(df_encoded.columns[df_encoded.columns.str.startswith('room_type_')]) +\n",
        "                  list(df_encoded.columns[df_encoded.columns.str.startswith('city_')]) +\n",
        "                  list(df_encoded.columns[df_encoded.columns.str.startswith('property_type_')])]\n"
      ]
    },
    {
      "cell_type": "markdown",
      "source": [
        "# **Linear Regression Model**"
      ],
      "metadata": {
        "id": "z7IRK_c3BYV2"
      }
    },
    {
      "cell_type": "code",
      "source": [
        "from sklearn.linear_model import LinearRegression\n",
        "from sklearn.model_selection import train_test_split\n",
        "from sklearn.metrics import mean_squared_error\n",
        "\n",
        "# Splitting data into train and test sets\n",
        "X_train, X_test, y_train, y_test = train_test_split(features, target, test_size=0.3, random_state=42)\n",
        "\n",
        "# Initializing and fitting the Linear Regression model\n",
        "linear_regressor = LinearRegression()\n",
        "linear_regressor.fit(X_train, y_train)\n",
        "\n",
        "# Predictions\n",
        "y_pred_train = linear_regressor.predict(X_train)\n",
        "y_pred_test = linear_regressor.predict(X_test)\n",
        "\n",
        "# Evaluating the model\n",
        "train_rmse = mean_squared_error(y_train, y_pred_train, squared=False)\n",
        "test_rmse = mean_squared_error(y_test, y_pred_test, squared=False)\n",
        "\n",
        "print(\"Train RMSE:\", train_rmse)\n",
        "print(\"Test RMSE:\", test_rmse)\n"
      ],
      "metadata": {
        "colab": {
          "base_uri": "https://localhost:8080/"
        },
        "id": "1eBwLtx39o-X",
        "outputId": "131363be-7a5e-41ab-b247-17931de6310a"
      },
      "execution_count": null,
      "outputs": [
        {
          "output_type": "stream",
          "name": "stdout",
          "text": [
            "Train RMSE: 0.47911677985079293\n",
            "Test RMSE: 0.47791268481687554\n"
          ]
        }
      ]
    },
    {
      "cell_type": "markdown",
      "source": [
        "# **GradientBoosting Model**"
      ],
      "metadata": {
        "id": "xX2ljNdjAujH"
      }
    },
    {
      "cell_type": "code",
      "execution_count": null,
      "metadata": {
        "colab": {
          "base_uri": "https://localhost:8080/"
        },
        "id": "S1MGR5KV6Qws",
        "outputId": "9272ed0a-7960-4158-e1d2-b742f18cd3a9"
      },
      "outputs": [
        {
          "output_type": "stream",
          "name": "stdout",
          "text": [
            "The mean squared error (MSE) on test set: 0.2518\n",
            "The root mean squared error (RMSE) on test set: 0.5018\n"
          ]
        }
      ],
      "source": [
        "from sklearn.ensemble import GradientBoostingRegressor\n",
        "from sklearn.model_selection import train_test_split\n",
        "import matplotlib.pyplot as plt\n",
        "from sklearn.inspection import permutation_importance\n",
        "from sklearn.metrics import mean_squared_error\n",
        "from sklearn.model_selection import train_test_split\n",
        "from sklearn import ensemble\n",
        "X_train, X_test, y_train, y_test = train_test_split(features, target, test_size=0.3, random_state=43)\n",
        "# using hyper parameters\n",
        "params = {\n",
        "    \"n_estimators\": 100,\n",
        "    \"min_samples_split\": 5,\n",
        "    \"max_depth\": 6,\n",
        "    \"learning_rate\": 0.01,\n",
        "    \"loss\": \"squared_error\",\n",
        "}\n",
        "reg = ensemble.GradientBoostingRegressor(**params)\n",
        "reg.fit(X_train, y_train)\n",
        "\n",
        "mse = mean_squared_error(y_test, reg.predict(X_test))\n",
        "print(\"The mean squared error (MSE) on test set: {:.4f}\".format(mse))\n",
        "\n",
        "import numpy as np\n",
        "from sklearn.metrics import mean_squared_error,r2_score\n",
        "\n",
        "\n",
        "rmse = np.sqrt(mean_squared_error(y_test, reg.predict(X_test)))\n",
        "\n",
        "# Print RMSE\n",
        "print(\"The root mean squared error (RMSE) on test set: {:.4f}\".format(rmse))\n"
      ]
    },
    {
      "cell_type": "markdown",
      "source": [
        "# **Random Forest Model**"
      ],
      "metadata": {
        "id": "HChUEjv3Bwme"
      }
    },
    {
      "cell_type": "code",
      "source": [
        "from sklearn.ensemble import RandomForestRegressor\n",
        "from sklearn.model_selection import train_test_split\n",
        "from sklearn.metrics import mean_squared_error\n",
        "\n",
        "# Splitting data into train and test sets\n",
        "X_train, X_test, y_train, y_test = train_test_split(features, target, test_size=0.3, random_state=42)\n",
        "\n",
        "# Creating and fitting the Random Forest Regressor model\n",
        "model = RandomForestRegressor(n_estimators=100, random_state=23)\n",
        "model.fit(X_train, y_train)\n",
        "\n",
        "# Predicting on the testing set\n",
        "y_pred = model.predict(X_test)\n",
        "\n",
        "# Evaluating the model\n",
        "mse = mean_squared_error(y_test, y_pred)\n",
        "print(\"Mean Squared Error:\", mse)\n",
        "# prompt: i need code for to find rmse\n",
        "\n",
        "import numpy as np\n",
        "from sklearn.metrics import mean_squared_error\n",
        "\n",
        "# Calculate root mean squared error (RMSE)\n",
        "rmse = np.sqrt(mean_squared_error(y_test, model.predict(X_test)))\n",
        "\n",
        "# Print RMSE\n",
        "print(\"The root mean squared error (RMSE) on test set: {:.4f}\".format(rmse))\n"
      ],
      "metadata": {
        "colab": {
          "base_uri": "https://localhost:8080/"
        },
        "id": "DAlOBsaX99yn",
        "outputId": "adcdb870-4d23-4e93-d0d2-e85c5db9cd8e"
      },
      "execution_count": null,
      "outputs": [
        {
          "output_type": "stream",
          "name": "stdout",
          "text": [
            "Mean Squared Error: 0.18744651157399636\n",
            "The root mean squared error (RMSE) on test set: 0.4330\n"
          ]
        }
      ]
    },
    {
      "cell_type": "markdown",
      "source": [
        "# **9. Feature Importance and Model Insights:**\n",
        "\n",
        "## The best model is Random Forest Regressor"
      ],
      "metadata": {
        "id": "WGsWTpY_Clgl"
      }
    },
    {
      "cell_type": "code",
      "source": [
        "# Random forest model is used to find Feature Importance and Model Insights\n",
        "# Get feature importances\n",
        "importances = model.feature_importances_\n",
        "\n",
        "# Pair the feature names with their importance scores\n",
        "feature_importances = [(feature, importance) for feature, importance in zip(features.columns, importances)]\n",
        "\n",
        "# Sort the feature importances by importance\n",
        "feature_importances = sorted(feature_importances, key=lambda x: x[1], reverse=True)\n",
        "\n",
        "# Print the feature importances\n",
        "for feature, importance in feature_importances:\n",
        "    print(f\"{feature}: {importance}\")\n"
      ],
      "metadata": {
        "colab": {
          "base_uri": "https://localhost:8080/"
        },
        "id": "pmmdKQpycLmw",
        "outputId": "bc60b8e6-9cba-4f65-c459-f7c463b4c734"
      },
      "execution_count": null,
      "outputs": [
        {
          "output_type": "stream",
          "name": "stdout",
          "text": [
            "room_type_Private room: 0.2786387525230436\n",
            "zipcode: 0.1477767649149015\n",
            "bedrooms: 0.12992977906474626\n",
            "sentiment_score: 0.10718761938032144\n",
            "amenities_score: 0.0702509851425597\n",
            "bathrooms: 0.06060359546258334\n",
            "room_type_Shared room: 0.06002648776259529\n",
            "Amenities_Count: 0.05250550699494644\n",
            "beds: 0.019170109342668756\n",
            "city_SF: 0.01583910703999518\n",
            "cleaning_fee: 0.014821493852109385\n",
            "property_type_House: 0.009079150299874106\n",
            "property_type_Condominium: 0.004975499316961445\n",
            "city_DC: 0.00412803740163641\n",
            "city_Chicago: 0.0035836022759113675\n",
            "property_type_Other: 0.003258698688949647\n",
            "property_type_Loft: 0.0031737052113793977\n",
            "city_LA: 0.0030824847028155357\n",
            "property_type_Townhouse: 0.0026856014086311447\n",
            "city_NYC: 0.0020023009785029335\n",
            "property_type_Bed & Breakfast: 0.0013404936335033686\n",
            "property_type_Dorm: 0.0008519388657591758\n",
            "property_type_Guesthouse: 0.0007829679047872757\n",
            "property_type_Boutique hotel: 0.0007679973694072165\n",
            "property_type_Villa: 0.0005949634480423874\n",
            "property_type_Bungalow: 0.00042859462394404283\n",
            "property_type_Camper/RV: 0.00041608445141533637\n",
            "property_type_Timeshare: 0.0003752159584628369\n",
            "property_type_Boat: 0.00035456018226509865\n",
            "property_type_Guest suite: 0.00031802111474752163\n",
            "property_type_Hostel: 0.0002032448188534629\n",
            "property_type_Tent: 0.00012783047589609936\n",
            "property_type_In-law: 0.00012518820870357678\n",
            "property_type_Earth House: 0.00011593972651897447\n",
            "property_type_Treehouse: 0.0001089674416989333\n",
            "property_type_Serviced apartment: 0.00010861077187235629\n",
            "property_type_Cabin: 8.407061215948842e-05\n",
            "property_type_Castle: 4.577343624925941e-05\n",
            "property_type_Yurt: 4.371012912954287e-05\n",
            "property_type_Tipi: 2.133794778323491e-05\n",
            "property_type_Vacation home: 1.879014450409503e-05\n",
            "property_type_Island: 1.7668587263164616e-05\n",
            "property_type_Hut: 1.3384733448629814e-05\n",
            "property_type_Train: 7.610188936493456e-06\n",
            "property_type_Chalet: 5.090641709336388e-06\n",
            "property_type_Cave: 1.5174054143454726e-06\n",
            "property_type_Casa particular: 6.052744907854226e-07\n",
            "property_type_Parking Space: 5.401379009717204e-07\n",
            "property_type_Lighthouse: 0.0\n"
          ]
        }
      ]
    },
    {
      "cell_type": "markdown",
      "source": [
        "# **10. Predictive Performance Assessment:**"
      ],
      "metadata": {
        "id": "0v7fPTbpIKZz"
      }
    },
    {
      "cell_type": "code",
      "source": [
        "# Random Forest\n",
        "\n",
        "import numpy as np\n",
        "from sklearn.metrics import mean_squared_error\n",
        "\n",
        "# Predicting on the testing set\n",
        "y_pred = model.predict(X_test)\n",
        "\n",
        "# Evaluating the model\n",
        "mse = mean_squared_error(y_test, y_pred)\n",
        "print(\"Mean Squared Error:\", mse)\n",
        "# prompt: i need code for to find rmse\n",
        "\n",
        "\n",
        "# Calculate root mean squared error (RMSE)\n",
        "rmse = np.sqrt(mean_squared_error(y_test, model.predict(X_test)))\n",
        "\n",
        "# Print RMSE\n",
        "print(\"The root mean squared error (RMSE) on test set: {:.4f}\".format(rmse))"
      ],
      "metadata": {
        "colab": {
          "base_uri": "https://localhost:8080/"
        },
        "id": "uIxQ_bMZIN7p",
        "outputId": "cc05cc02-a8c8-4081-9a52-bdc7c140047a"
      },
      "execution_count": null,
      "outputs": [
        {
          "output_type": "stream",
          "name": "stdout",
          "text": [
            "Mean Squared Error: 0.18744651157399636\n",
            "The root mean squared error (RMSE) on test set: 0.4330\n"
          ]
        }
      ]
    },
    {
      "cell_type": "code",
      "execution_count": null,
      "metadata": {
        "colab": {
          "base_uri": "https://localhost:8080/"
        },
        "id": "geXCl-vL3-6N",
        "outputId": "9eae41b9-bbc1-43d6-b018-8ada89814f77"
      },
      "outputs": [
        {
          "output_type": "stream",
          "name": "stdout",
          "text": [
            "y_test: 4079     3.806662\n",
            "33735    4.941642\n",
            "69475    4.941642\n",
            "454      4.867534\n",
            "25153    3.663562\n",
            "           ...   \n",
            "67535    5.220356\n",
            "23680    4.499810\n",
            "18399    3.688879\n",
            "70880    6.887553\n",
            "39863    5.298317\n",
            "Name: log_price, Length: 22234, dtype: float64\n",
            "y_pred: [3.85888908 5.15630512 5.12441752 ... 3.88574662 6.02154388 5.1586424 ]\n"
          ]
        }
      ],
      "source": [
        "#using Random Forest prediction\n",
        "# PRINT  Y_TEST  ADN Y_PRED\n",
        "\n",
        "print(\"y_test:\", y_test)\n",
        "print(\"y_pred:\", y_pred)\n"
      ]
    },
    {
      "cell_type": "code",
      "execution_count": null,
      "metadata": {
        "colab": {
          "base_uri": "https://localhost:8080/"
        },
        "id": "9tmqtTvr4Fe8",
        "outputId": "7641826f-2109-4918-b1e0-3951e451ec99"
      },
      "outputs": [
        {
          "output_type": "stream",
          "name": "stdout",
          "text": [
            "Difference between y_test and y_pred:\n",
            "4079    -0.052227\n",
            "33735   -0.214663\n",
            "69475   -0.182775\n",
            "454     -0.579515\n",
            "25153    0.015987\n",
            "           ...   \n",
            "67535    0.309215\n",
            "23680   -0.101954\n",
            "18399   -0.196867\n",
            "70880    0.866009\n",
            "39863    0.139675\n",
            "Name: log_price, Length: 22234, dtype: float64\n"
          ]
        }
      ],
      "source": [
        "\n",
        "y_test_minus_y_pred = y_test - y_pred\n",
        "print(\"Difference between y_test and y_pred:\")\n",
        "print(y_test_minus_y_pred)\n"
      ]
    }
  ],
  "metadata": {
    "accelerator": "GPU",
    "colab": {
      "gpuType": "T4",
      "provenance": [],
      "authorship_tag": "ABX9TyMkIRfbTp28sTDqyRw73urZ",
      "include_colab_link": true
    },
    "kernelspec": {
      "display_name": "Python 3",
      "name": "python3"
    },
    "language_info": {
      "name": "python"
    }
  },
  "nbformat": 4,
  "nbformat_minor": 0
}